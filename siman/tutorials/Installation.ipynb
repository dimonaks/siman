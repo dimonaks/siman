{
 "metadata": {
  "name": "",
  "signature": "sha256:4c891291a8197d2d856d1f12f795c93d701132915913252f9bda96c70ccad74d"
 },
 "nbformat": 3,
 "nbformat_minor": 0,
 "worksheets": [
  {
   "cells": [
    {
     "cell_type": "markdown",
     "metadata": {},
     "source": [
      "###Installation:\n",
      "\n",
      "- Install [Anaconda](https://www.continuum.io/downloads). For linux it is enought to use pure python or install just [IPython](https://ipython.org/install.html) or [Jupyter Notebook](https://jupyter.readthedocs.io/en/latest/install.html)\n",
      "- Install [paramiko](http://www.paramiko.org/) package by running in command line *pip install paramiko*\n",
      "- Download latest siman package from https://github.com/dimonaks/siman/releases\n",
      "    and unpack into your folder, for example *'C:/programms/siman-vX.X'*\n",
      "- Download SSHTools from http://zhugayevych.me/python/SSHTools/SSHTools.zip and unpack into *'C:/programms/SSHTools'*\n",
      "- For additional functionality you need to install [pymatgen](http://pymatgen.org/) and [ase](https://wiki.fysik.dtu.dk/ase/) using the following commands:\n",
      "        pip install pymatgen\n",
      "        pip install ase\n",
      "    "
     ]
    }
   ],
   "metadata": {}
  }
 ]
}