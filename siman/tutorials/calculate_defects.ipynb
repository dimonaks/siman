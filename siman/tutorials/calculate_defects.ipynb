{
 "metadata": {
  "name": "",
  "signature": "sha256:f90176903938f10f15ffc3448f25735494f241a9cf4d026e770017f12274a1bd"
 },
 "nbformat": 3,
 "nbformat_minor": 0,
 "worksheets": [
  {
   "cells": [
    {
     "cell_type": "heading",
     "level": 1,
     "metadata": {},
     "source": [
      "Study vacancies"
     ]
    },
    {
     "cell_type": "code",
     "collapsed": false,
     "input": [
      "from workflow_utilities import make_defect\n",
      "make_defect(cl, 'P', option = 'Vac')"
     ],
     "language": "python",
     "metadata": {},
     "outputs": []
    }
   ],
   "metadata": {}
  }
 ]
}