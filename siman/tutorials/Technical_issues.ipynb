{
 "metadata": {
  "name": "",
  "signature": "sha256:a2beb7599e3d170b7f6ee51aeb9f985c1a84e87a72fc5e633284a3b749f68451"
 },
 "nbformat": 3,
 "nbformat_minor": 0,
 "worksheets": [
  {
   "cells": [
    {
     "cell_type": "heading",
     "level": 1,
     "metadata": {},
     "source": [
      "1. Tweaking queue batch manager"
     ]
    },
    {
     "cell_type": "markdown",
     "metadata": {},
     "source": [
      "go to siman/calc_manage.py write_batch_header() function and make necessary additions"
     ]
    }
   ],
   "metadata": {}
  }
 ]
}