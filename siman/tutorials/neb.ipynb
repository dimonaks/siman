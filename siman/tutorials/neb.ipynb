{
 "cells": [
  {
   "cell_type": "markdown",
   "metadata": {},
   "source": [
    "### Calculation of migration barriers using NEB method\n",
    "In this example we show how to calculate migration barrier on the example of LiFePO4\n",
    "\n",
    "## Important notes\n",
    "\n",
    "- Creation of intermediate images on server is done with [nebmake.pl] and [vasp.pm] (http://theory.cm.utexas.edu/code/vtstscripts.tgz) script. By using *add_neb(upload_vts = 1)* it will be uploaded to  ~/tools/vts/ otherwise do it manually\n",
    "\n",
    "- initialize header.PATH2NEBMAKE constant with path to nebmake.pl; either in header.py or project_conf.py\n",
    "\n",
    "- To use void search you should compile *findpores.cpp*. For linux use *make_findpores* script in siman folder. Fow windows use *make_findpores.bat* (mingw64v5.2 or Visuall C++ should be installed).\n"
   ]
  },
  {
   "cell_type": "code",
   "execution_count": 1,
   "metadata": {},
   "outputs": [],
   "source": [
    "import sys\n",
    "sys.path.append('/home/aksenov/Simulation_wrapper/siman')\n",
    "from SSHTools import SSHTools\n",
    "import header\n",
    "from calc_manage import add_loop, res_loop, smart_structure_read\n",
    "from database import write_database, read_database\n",
    "from set_functions import read_vasp_sets\n",
    "from neb import add_neb\n",
    "%matplotlib inline"
   ]
  },
  {
   "cell_type": "code",
   "execution_count": 2,
   "metadata": {},
   "outputs": [
    {
     "name": "stdout",
     "output_type": "stream",
     "text": [
      "\n",
      "Attention! You have chosen to override set ion_relax\n",
      " \n",
      "\n",
      "Warning! You did not change  ISIF  in ion_relax set\n",
      " \n",
      "\n",
      "Warning! You did not change  IBRION  in ion_relax set\n",
      " \n",
      "\n"
     ]
    },
    {
     "data": {
      "text/plain": [
       "{'static': <set_functions.InputSet at 0x7f2620341fd0>,\n",
       " 'ion_relax': <set_functions.InputSet at 0x7f265c486438>}"
      ]
     },
     "execution_count": 2,
     "metadata": {},
     "output_type": "execute_result"
    }
   ],
   "source": [
    "header.ssh_object = SSHTools()\n",
    "header.ssh_object.setup(user=\"aksenov\",host=\"10.30.16.62\",pkey=\"/home/aksenov/.ssh/id_rsa\")\n",
    "\n",
    "header.PATH2PROJECT    = 'neb' # path to project relative to your home folder on cluster\n",
    "header.PATH2POTENTIALS = '/home/aksenov/scientific_projects/PAW_PBE_VASP' #path to VASP POTENTIALS\n",
    "\n",
    "header.varset['static'].potdir = {3:'Li', 26:'Fe', 15:'P', 8:'O'} #subfolders with required potentials\n",
    "read_vasp_sets([('ion_relax', 'static', {'ISIF':2, 'IBRION':1, 'NSW':20, 'EDIFFG':-0.025}, 'override')]) #new set 'ion_relax' from 'static' with 'NSW' = 20"
   ]
  },
  {
   "cell_type": "code",
   "execution_count": 3,
   "metadata": {},
   "outputs": [
    {
     "name": "stdout",
     "output_type": "stream",
     "text": [
      "-- You provided the following geo file explicitly  in/mp-19017.POSCAR ; Version of file does not matter, I use *curver*= 1 as a new version \n",
      "\n"
     ]
    }
   ],
   "source": [
    "st = smart_structure_read(input_geo_file = 'in/mp-19017.POSCAR') #read LiFePO4 structure"
   ]
  },
  {
   "cell_type": "markdown",
   "metadata": {},
   "source": [
    "### Create Initial and Final configurations and run on server\n",
    "Function add_neb() creates start and end configurations by removing or adding alkali ion atoms.\n",
    "The start and end configurations have 1 and 2 version numbers, respectively.\n",
    "All intermidiate images have version numbers starting from 3.\n",
    "Before setting *run = 1* you can check created configurations in xyz folder: mp-19017_start.xyz and mp-19017_end.xyz\n",
    "    \n",
    "- *it_new* and *it_new_folder* are name and folder for new calculation. \n",
    "- *ise_new* is set with VASP parameters defined above.\n",
    "- *images* is number of images and *corenum* is number of cores used for calculation; should be dividable by images.\n",
    "- *upload_vts = 1* upload nebmake.pl to server."
   ]
  },
  {
   "cell_type": "code",
   "execution_count": 4,
   "metadata": {},
   "outputs": [
    {
     "name": "stdout",
     "output_type": "stream",
     "text": [
      "-- You have chosen vacancy_creation mode of add_neb tool \n",
      "\n",
      "-- Type of atom to move =  Li \n",
      "\n",
      "I can suggest you 4 end positions. The distances to them are : [ 0.    3.04  5.74  6.5 ] A\n",
      "  They are all Li atoms \n",
      "\n",
      "-- File xyz/mp-19017_start.xyz was written \n",
      "\n",
      "-- File xyz/mp-19017_end.xyz was written \n",
      "\n",
      "-- Creating geo files for starting and final configurations (versions 1 and 2)  \n",
      "\n",
      "-- Warning! File ./LiFePO4/neb/LiFePO4.n3Li1v1/LiFePO4.n3Li1v1.auto_created_starting_position_for_neb_vacancy_creation.1.geo was replaced \n",
      "\n",
      "-- Warning! File ./LiFePO4/neb/LiFePO4.n3Li1v1/LiFePO4.n3Li1v1.auto_created_final_position_for_neb_vacancy_creation.2.geo was replaced \n",
      "\n",
      "-- Attention, I update number of images in the set to 3 for this calculation;  \n",
      "\n",
      "-- check_kpoints(): Kpoint   mesh is:  [3, 5, 6] \n",
      "\n",
      "-- check_kpoints(): The actual k-spacings are  [ 0.2   0.21  0.22] \n",
      "\n",
      "\n",
      "Calculation ('LiFePO4.n3Li1v1', 'ion_relax', 1) successfully created\n",
      "\n",
      " \n",
      "\n",
      "-- check_kpoints(): Kpoint   mesh is:  [3, 5, 6] \n",
      "\n",
      "-- check_kpoints(): The actual k-spacings are  [ 0.2   0.21  0.22] \n",
      "\n",
      "-- Attention! ngkpt =  [3, 5, 6]  is adopted from struct_des which you provided for it  LiFePO4.n3Li1v1  and kspacing =  0.235 \n",
      "\n",
      "\n",
      "Calculation ('LiFePO4.n3Li1v1', 'ion_relax', 2) successfully created\n",
      "\n",
      " \n",
      "\n",
      "-- Please be sure that vtsttools are at aksenov@10.30.16.62 /home/aksenov/tools/vts/ \n",
      "\n"
     ]
    },
    {
     "data": {
      "text/plain": [
       "'LiFePO4.n3Li1v1'"
      ]
     },
     "execution_count": 4,
     "metadata": {},
     "output_type": "execute_result"
    }
   ],
   "source": [
    "add_neb(st = st, it_new = 'LiFePO4', ise_new = 'ion_relax', it_new_folder = 'LiFePO4/neb',\n",
    "        images = 3, corenum = 15, upload_vts = 0, run = 0)                \n"
   ]
  },
  {
   "cell_type": "code",
   "execution_count": 8,
   "metadata": {},
   "outputs": [
    {
     "name": "stdout",
     "output_type": "stream",
     "text": [
      "\n",
      "\n",
      "Max. F. tot  (meV/A) = \n",
      "[1845 2447 1024  738  489  772  231  237  184  126  139  104   55   89   42\n",
      "   47   37   32   31   27]; \n",
      "\n",
      "-- name                          |  energy(eV)|    Vector lenghts (A)   | Stresses (MPa)     | N MD, N SCF    \n",
      "-- LiFePO4.n3Li1v1.ion_relax.1   | -185.3215  |     10.45;6.09;4.75     |-13095,-13883,-9633 |  20, 7,147    \n",
      "-- Attention!, SCF was not converged to desirable prec 0.014 > 0.006 meV \n",
      "\n",
      "\n",
      "\n",
      "Max. F. tot  (meV/A) = \n",
      "[1845 2447 1025  734  492  779  233  240  187  135  151   86   57   82   46\n",
      "   47   36   38   36   30]; \n",
      "\n",
      "-- LiFePO4.n3Li1v1.ion_relax.2   | -185.3211  |     10.45;6.09;4.75     |-13152,-13905,-9671 |  20, 7,149    \n",
      "-- Directory LiFePO4/neb//LiFePO4.n3Li1v1.ion_relax/01  was created \n",
      "\n",
      "\n",
      "\n",
      "Max. F. chain+tot  (meV/A) = \n",
      "[1046 1926  794  776  662  593  547  466  379  384  324  348  294  270  248\n",
      "  226  278  193  182  166]; \n",
      "\n",
      "-- LiFePO4.n3Li1v1.ion_relax.3   | -185.1748  |     10.45;6.09;4.75     |-12612,-13980,-8884 |  20, 6,134    \n",
      "-- Directory LiFePO4/neb//LiFePO4.n3Li1v1.ion_relax/02  was created \n",
      "\n",
      "\n",
      "\n",
      "Max. F. chain+tot  (meV/A) = \n",
      "[2115 4022 1893 1924 1032  849  773  603  530  850  381  398  340  310  362\n",
      "  252  249  229  216  198]; \n",
      "\n",
      "-- LiFePO4.n3Li1v1.ion_relax.4   | -185.0004  |     10.45;6.09;4.75     |-12148,-14496,-8454 |  20, 7,146    \n",
      "-- Directory LiFePO4/neb//LiFePO4.n3Li1v1.ion_relax/03  was created \n",
      "\n",
      "\n",
      "\n",
      "Max. F. chain+tot  (meV/A) = \n",
      "[1052 1932  795  782  663  592  546  465  378  384  326  351  294  271  247\n",
      "  227  280  190  179  165]; \n",
      "\n",
      "-- LiFePO4.n3Li1v1.ion_relax.5   | -185.1748  |     10.45;6.09;4.75     |-12614,-13976,-8877 |  20, 6,138    \n",
      "[ 0.          1.61416911  3.22825098]\n",
      "-- plot_mep(): Diffusion barrier = 0.32  eV \n",
      "\n",
      "[ 0.          1.61416911  3.22825098]\n",
      "-- plot_mep(): Diffusion barrier = 0.32  eV \n",
      "\n"
     ]
    },
    {
     "data": {
      "image/png": "[encoded data removed]",
      "text/plain": [
       "<matplotlib.figure.Figure at 0x7f261cedb1d0>"
      ]
     },
     "metadata": {},
     "output_type": "display_data"
    },
    {
     "data": {
      "text/plain": [
       "({'barrier': 0.32107652044765422}, [])"
      ]
     },
     "execution_count": 8,
     "metadata": {},
     "output_type": "execute_result"
    }
   ],
   "source": [
    "header.warnings = 'yY' #control warning levels: n, e, y, Y\n",
    "\n",
    "res_loop('LiFePO4.n3Li1v1', 'ion_relax', [1,2,3,4,5], show = 'fomepp', analys_type = 'neb'  )"
   ]
  },
  {
   "cell_type": "markdown",
   "metadata": {},
   "source": [
    "# Other regimes:"
   ]
  },
  {
   "cell_type": "markdown",
   "metadata": {},
   "source": [
    "## Start: atom number; End: find interstitial void"
   ]
  },
  {
   "cell_type": "code",
   "execution_count": null,
   "metadata": {},
   "outputs": [],
   "source": [
    "add_neb(RbVl, ise_new = '1u', images = 5, r_impurity = 1.5, search_type = 'existing_voids',\n",
    "                        i_atom_to_move = 1,  i_void_final = None) #"
   ]
  },
  {
   "cell_type": "markdown",
   "metadata": {},
   "source": [
    "## Start: atom number; End: xred coordinates of void"
   ]
  },
  {
   "cell_type": "code",
   "execution_count": null,
   "metadata": {},
   "outputs": [],
   "source": [
    "# xr_final is coordinates of final position - void\n",
    "it = add_neb(RbVl, ise_new = '1u', images = 5,\n",
    "                        i_atom_to_move = 2,  xr_final = [0.2, 0.1, 0.3], i_void_final = 10) # *i_void_final*  is needed here only for producing unique name"
   ]
  },
  {
   "cell_type": "markdown",
   "metadata": {},
   "source": [
    "## Use external files for NEB (version >1.1.0 is required ) "
   ]
  },
  {
   "cell_type": "code",
   "execution_count": null,
   "metadata": {},
   "outputs": [],
   "source": [
    "# here 'NEB_by_lain' is external folder with geo files for NEB in VASP format, i.e. POSCAR files in 00, 01, 02 ... subfolders\n",
    "add_neb(init_neb_geo_fld = 'NEB_by_lain/',\n",
    "        it_new = 'Ag9Bi4S4Cl8', ise_new = '1', it_new_folder = 'AgBiSCl/neb' )\n",
    "# res('Ag9Bi4S4Cl8', '1', range(1,8), show = 'fomepp.neb_geo', analys_type = 'neb'  )"
   ]
  },
  {
   "cell_type": "markdown",
   "metadata": {},
   "source": [
    "# Additional parameters:"
   ]
  },
  {
   "cell_type": "code",
   "execution_count": null,
   "metadata": {},
   "outputs": [],
   "source": [
    "#1. produce xyz trajectory and shift cell\n",
    "res_loop(show = 'neb_geo', params = {'mep_shift_vector':(0.,0.5,0.5)}) "
   ]
  }
 ],
 "metadata": {
  "kernelspec": {
   "display_name": "Python 3",
   "language": "python",
   "name": "python3"
  },
  "language_info": {
   "codemirror_mode": {
    "name": "ipython",
    "version": 3
   },
   "file_extension": ".py",
   "mimetype": "text/x-python",
   "name": "python",
   "nbconvert_exporter": "python",
   "pygments_lexer": "ipython3",
   "version": "3.8.5"
  }
 },
 "nbformat": 4,
 "nbformat_minor": 1
}
