{
 "metadata": {
  "name": "",
  "signature": "sha256:85e592552cead386040a6de1d70b568b40cebe35231cd10dd09696e79e564827"
 },
 "nbformat": 3,
 "nbformat_minor": 0,
 "worksheets": [
  {
   "cells": [
    {
     "cell_type": "heading",
     "level": 1,
     "metadata": {},
     "source": [
      "Consider anti-ferromagnetic configurations"
     ]
    },
    {
     "cell_type": "code",
     "collapsed": false,
     "input": [
      "add_loop('ex', 'set', 1, calc_method = 'afm_ordering')\n"
     ],
     "language": "python",
     "metadata": {},
     "outputs": []
    },
    {
     "cell_type": "markdown",
     "metadata": {},
     "source": [
      "or "
     ]
    },
    {
     "cell_type": "code",
     "collapsed": false,
     "input": [
      "read_vasp_sets([('setafm', 'set',    {'afm_ordering':True})])\n",
      "add_loop('ex', 'setafm', 1, )"
     ],
     "language": "python",
     "metadata": {},
     "outputs": []
    }
   ],
   "metadata": {}
  }
 ]
}