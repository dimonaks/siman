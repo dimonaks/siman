{
 "metadata": {
  "name": "",
  "signature": "sha256:350a3335c7822955ea6227f669f045bd9060e8ef784dfbed943bf78f4184c7b2"
 },
 "nbformat": 3,
 "nbformat_minor": 0,
 "worksheets": [
  {
   "cells": [
    {
     "cell_type": "heading",
     "level": 1,
     "metadata": {},
     "source": [
      "Adding new calculation"
     ]
    },
    {
     "cell_type": "markdown",
     "metadata": {},
     "source": [
      "First of all you need to know initial crystall structure for your material. You can find it in books, articles, and materials databases. Currently, SIMAN provides interface to *materialsproject.org* database. \n",
      "To add a new calculation just run (on the example of FePO$_4$):"
     ]
    },
    {
     "cell_type": "code",
     "collapsed": false,
     "input": [
      "add_loop('FePO4.pnma','1u', 1, up = 'up1', input_geo_format = 'mat_proj', it_folder = 'LiFePO4', mat_proj_id = 'mp-777026') "
     ],
     "language": "python",
     "metadata": {},
     "outputs": []
    },
    {
     "cell_type": "markdown",
     "metadata": {},
     "source": [
      "where *'FePO4.pnma'* is arbirtary name, *'1u'* is the name of predefined set with VASP parameters (see here), *1* is arbirtary number of your calculation, *it_folder* is arbirtary path (locally and on the cluster) to the group of calculations, *mat_proj_id* is id at *materialsproject.org*. The last parameter can be omitted. \n",
      "After *add_loop()* you can access your new calculation in ```calc``` dictionary as ```calc['FePO4.pnma','1u', 1]```.\n",
      "\n",
      "Then go to your cluster and run at your home directory:"
     ]
    },
    {
     "cell_type": "code",
     "collapsed": false,
     "input": [
      "./run"
     ],
     "language": "python",
     "metadata": {},
     "outputs": []
    },
    {
     "cell_type": "markdown",
     "metadata": {},
     "source": [
      "when the calculation is complete, just rename ```add_loop``` to ```res_loop```."
     ]
    },
    {
     "cell_type": "code",
     "collapsed": false,
     "input": [
      "res_loop('FePO4.pnma','1u', 1, up = 'up1', input_geo_format = 'mat_proj', it_folder = 'LiFePO4', mat_proj_id = 'mp-777026') "
     ],
     "language": "python",
     "metadata": {},
     "outputs": []
    },
    {
     "cell_type": "markdown",
     "metadata": {},
     "source": [
      "or you can run simply"
     ]
    },
    {
     "cell_type": "code",
     "collapsed": false,
     "input": [
      "res_loop('FePO4.pnma','1u', 1)"
     ],
     "language": "python",
     "metadata": {},
     "outputs": []
    },
    {
     "cell_type": "markdown",
     "metadata": {},
     "source": [
      "    Name            |Energy (eV)| Cell vectors (A)| Diagonal Stress (MPa) | nat | time (h)| MD steps | W! | Symmetry\n",
      "    FePO4.pnma.1u.1 | -171.3453 | 8.75;6.59;4.78  | -6769,-6037,-6262     | 24  | 0.08    | 5, 6, 31 | 3  | 1\n"
     ]
    },
    {
     "cell_type": "code",
     "collapsed": false,
     "input": [
      "print('Full energy (eV)  = ', calc['FePO4.pnma','1u', 1].energy_sigma0 )\n",
      "cl = calc['FePO4.pnma','1u', 1]\n",
      "print('Cell vectors (A)  = ', cl.vlength   )\n",
      "print('Sigma xx  (MPa)   = ', cl.stress[0] )\n",
      "print('Max force (meV/A) = ', cl.maxforce  )"
     ],
     "language": "python",
     "metadata": {},
     "outputs": []
    },
    {
     "cell_type": "markdown",
     "metadata": {},
     "source": [
      "    Full energy (eV)  =  -171.34531006\n",
      "    Cell vectors  (A) =  [8.751, 6.593, 4.781]\n",
      "    Sigma xx  (MPa)   =  -6769.165\n",
      "    Max force (meV/A) =  43.0"
     ]
    }
   ],
   "metadata": {}
  }
 ]
}