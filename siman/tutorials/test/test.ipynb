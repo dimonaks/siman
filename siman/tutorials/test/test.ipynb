{
 "cells": [
  {
   "cell_type": "code",
   "execution_count": 1,
   "metadata": {},
   "outputs": [
    {
     "name": "stdout",
     "output_type": "stream",
     "text": [
      "Reading ./project_conf.py\n",
      "/hdd/home/aksenov/scientific_projects/PAW_PBE_VASP\n"
     ]
    }
   ],
   "source": [
    "from siman import header\n",
    "from siman.SSHTools import SSHTools\n",
    "from siman.calc_manage import add, res\n",
    "from siman.database import write_database, read_database\n",
    "from siman.set_functions import read_vasp_sets\n",
    "from siman.calc_manage import smart_structure_read, complete_run\n",
    "%matplotlib inline\n",
    "read_database() # read saved database if available\n",
    "print(header.PATH2POTENTIALS)"
   ]
  },
  {
   "cell_type": "code",
   "execution_count": 2,
   "metadata": {},
   "outputs": [],
   "source": [
    "#for windows:\n",
    "header.ssh_object = SSHTools()\n",
    "header.ssh_object.setup(user=\"aksenov\",host=\"10.30.99.214\",pkey=\"/home/aksenov/.ssh/id_rsa\")\n",
    "\n",
    "header.varset['static'].potdir = {3:'Li'} #subfolders with required potentials"
   ]
  },
  {
   "cell_type": "code",
   "execution_count": 3,
   "metadata": {},
   "outputs": [
    {
     "name": "stdout",
     "output_type": "stream",
     "text": [
      "-- check_kpoints(): Kpoint   mesh is:  [9, 9, 9] \n",
      "\n",
      "-- check_kpoints(): The actual k-spacings are  [ 0.23  0.23  0.23] \n",
      "\n",
      "-- POSCAR was written to /hdd/home/aksenov/Simulation_wrapper/siman/tutorials/test/Li//Li.static/1.POSCAR \n",
      "\n",
      "-- Attention! ngkpt =  [9, 9, 9]  is adopted from struct_des which you provided for it  Li  and kspacing =  0.235 \n",
      "\n",
      "\n",
      "Calculation ('Li', 'static', 1) successfully created\n",
      "\n",
      " \n",
      "\n",
      "rm: cannot remove ‘PROCAR’: No such file or directory\n",
      "rm: cannot remove ‘RUNNING’: No such file or directory \n",
      "\n",
      "-- To read results use  res_loop('Li', ['static'], [1], show = 'fo'  )     # , on 2019-06-27   ; possible options for show: fit, fo, fop, en, mag, magp, smag, maga, occ, occ1, mep, mepp \n",
      "\n"
     ]
    },
    {
     "data": {
      "text/plain": [
       "'Li'"
      ]
     },
     "execution_count": 3,
     "metadata": {},
     "output_type": "execute_result"
    }
   ],
   "source": [
    "st = smart_structure_read(input_geo_file = 'Li.POSCAR')\n",
    "header.warnings = 'yY'\n",
    "\n",
    "add('Li', 'static', 1, up = 'up2', input_st = st, it_folder = 'Li', run = 1, cluster = 'sd')\n",
    "#complete_run(header.close_run)\n",
    "\n",
    "\n",
    "\n"
   ]
  },
  {
   "cell_type": "code",
   "execution_count": 5,
   "metadata": {},
   "outputs": [
    {
     "name": "stdout",
     "output_type": "stream",
     "text": [
      "Warning! TOO FEW BANDS!!!\n",
      "\n",
      "\n",
      "Warning! TOO FEW BANDS!!!\n",
      " \n",
      "\n",
      "\n",
      "\n",
      "Max. F. tot  (meV/A) = \n",
      "[0]; \n",
      "\n",
      "-- db['Li.static.1']             | Im-3m |  -3.1414   |  -1.5707   |3.00;3.00;3.00|  27.0  |  35 | 11854,11854,11854  | 2  | 0.000  |   1,10, 10   |  4  | 48| 0.0 |  -0| -3.1  \n",
      "\n",
      "Database has been successfully updated\n",
      "\n"
     ]
    }
   ],
   "source": [
    "res('Li', 'static', 1, up = 'up2')\n",
    "\n",
    "if 1:\n",
    "    write_database()"
   ]
  },
  {
   "cell_type": "code",
   "execution_count": null,
   "metadata": {},
   "outputs": [],
   "source": [
    "    "
   ]
  }
 ],
 "metadata": {
  "kernelspec": {
   "display_name": "Python 3",
   "language": "python",
   "name": "python3"
  },
  "language_info": {
   "codemirror_mode": {
    "name": "ipython",
    "version": 3
   },
   "file_extension": ".py",
   "mimetype": "text/x-python",
   "name": "python",
   "nbconvert_exporter": "python",
   "pygments_lexer": "ipython3",
   "version": "3.6.8"
  }
 },
 "nbformat": 4,
 "nbformat_minor": 2
}
