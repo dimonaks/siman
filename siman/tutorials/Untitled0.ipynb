{
 "metadata": {
  "name": "",
  "signature": "sha256:84a36152a51bf313febb144759df018e2bcd84c2b9f006330cc69d21c7861359"
 },
 "nbformat": 3,
 "nbformat_minor": 0,
 "worksheets": [
  {
   "cells": [
    {
     "cell_type": "code",
     "collapsed": false,
     "input": [
      "import sys\n",
      "sys.path.extend(['/home/aksenov/Simulation_wrapper/siman'])\n",
      "import header\n",
      "from calc_manage import add_loop, res_loop\n",
      "from database import write_database, read_database\n",
      "from set_functions import read_vasp_sets\n",
      "from calc_manage import smart_structure_read\n",
      "%matplotlib inline"
     ],
     "language": "python",
     "metadata": {},
     "outputs": []
    },
    {
     "cell_type": "code",
     "collapsed": false,
     "input": [],
     "language": "python",
     "metadata": {},
     "outputs": []
    }
   ],
   "metadata": {}
  }
 ]
}