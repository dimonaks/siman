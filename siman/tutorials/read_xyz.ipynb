{
 "metadata": {
  "name": "",
  "signature": "sha256:08422d0daa6a4a19e4e7866fff3b5e83266d85759370c27e3165a9fcbc4d398a"
 },
 "nbformat": 3,
 "nbformat_minor": 0,
 "worksheets": [
  {
   "cells": [
    {
     "cell_type": "code",
     "collapsed": false,
     "input": [
      "import sys\n",
      "sys.path.append('/home/aksenov/Simulation_wrapper/siman')\n",
      "import header\n",
      "from classes import Structure\n",
      "from calc_manage import add_loop\n",
      "\n",
      "\n",
      "st = Structure()\n",
      "\n",
      "st.read_xyz('xyz/Li2CoPO4F.pnma.xyz', rprimd = [[0,0,-11]]) #provide missing primitive vectors\n",
      "\n",
      "header.PATH2POTENTIALS = '/home/aksenov/scientific_projects/PAW_PBE_VASP' #path to VASP POTENTIALS\n",
      "\n",
      "add_loop('Li2CoPO4F', 'static', 1, input_st = st, it_folder = 'test') #create INCAR and POSCAR in test folder\n"
     ],
     "language": "python",
     "metadata": {},
     "outputs": [
      {
       "output_type": "stream",
       "stream": "stdout",
       "text": [
        "-- Warning! xyz file is broken, not enough lines \n",
        "\n",
        "Only these primitive vectors were found in xyz :\n",
        " [[ 10.547   0.      0.   ]\n",
        " [  0.      6.448   0.   ]] \n",
        "I take rest from *rprimd* \n",
        "\n",
        "-- Warning! rprimd gives negative volume, I exchange vectors 2 and 3 \n",
        "\n",
        "Final rprimd = \n",
        " [[ 10.547   0.      0.   ]\n",
        " [  0.      0.    -11.   ]\n",
        " [  0.      6.448   0.   ]] \n",
        "\n",
        "-- check_kpoints(): Kpoint   mesh is:  [3, 3, 5] \n",
        "\n"
       ]
      },
      {
       "output_type": "stream",
       "stream": "stdout",
       "text": [
        "-- check_kpoints(): The actual k-spacings are  [ 0.2   0.19  0.19] \n",
        "\n",
        "-- Attention! ngkpt =  [3, 3, 5]  is adopted from struct_des which you provided for it  Li2CoPO4F  and kspacing =  0.235 \n",
        "\n",
        "\n",
        "Calculation ('Li2CoPO4F', 'static', 1) successfully created\n",
        "\n",
        " \n",
        "\n"
       ]
      },
      {
       "metadata": {},
       "output_type": "pyout",
       "prompt_number": 1,
       "text": [
        "'Li2CoPO4F'"
       ]
      }
     ],
     "prompt_number": 1
    }
   ],
   "metadata": {}
  }
 ]
}