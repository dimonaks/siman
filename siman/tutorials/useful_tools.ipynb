{
 "metadata": {
  "name": "",
  "signature": "sha256:a7d3accf069a7e99eaa47c01e295936072df7c46517b1564db670ebb1319d0f5"
 },
 "nbformat": 3,
 "nbformat_minor": 0,
 "worksheets": [
  {
   "cells": [
    {
     "cell_type": "markdown",
     "metadata": {},
     "source": [
      "get list of transition elements z of some structure "
     ]
    },
    {
     "cell_type": "code",
     "collapsed": false,
     "input": [
      "tr = st.get_transition_elements(fmt = 'z' ) "
     ],
     "language": "python",
     "metadata": {},
     "outputs": []
    }
   ],
   "metadata": {}
  }
 ]
}