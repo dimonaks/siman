{
 "cells": [
  {
   "cell_type": "code",
   "execution_count": 2,
   "metadata": {},
   "outputs": [],
   "source": [
    "import sys\n",
    "import numpy as np\n",
    "from siman import header\n",
    "from siman.header      import db # database dictionary\n",
    "from siman.SSHTools import SSHTools\n",
    "from siman.calc_manage import smart_structure_read, add, res\n",
    "from siman.geo         import supercell\n",
    "from siman.database    import read_database, write_database\n",
    "from siman.picture_functions import fit_and_plot\n",
    "from siman.set_functions import read_vasp_sets\n",
    "\n",
    "read_database() # read saved results\n",
    "\n",
    "user = \"d.aksenov\"\n",
    "host = \"10.30.16.168\"\n",
    "header.ssh_object = SSHTools()\n",
    "header.ssh_object.setup(user=user, host=host, pkey=\"/home/aksenov/.ssh/id_rsa\")\n",
    "header.PATH2POTENTIALS = 'potcars/' # path to POTCAR files"
   ]
  },
  {
   "cell_type": "code",
   "execution_count": 2,
   "metadata": {},
   "outputs": [
    {
     "name": "stdout",
     "output_type": "stream",
     "text": [
      "-- Calculating mul_matrix for ortho: [10, 3, 3] \n",
      "\n",
      "mul_matrix_float:\n",
      " [[2.91205591 0.         0.        ]\n",
      " [0.         0.87361677 0.        ]\n",
      " [0.         0.         0.87361677]] \n",
      "mul_matrix:\n",
      " [[3 0 0]\n",
      " [0 1 0]\n",
      " [0 0 1]] \n",
      "Old vectors (rprimd):\n",
      " [[3.4 0.  0. ]\n",
      " [0.  3.4 0. ]\n",
      " [0.  0.  3.4]] \n",
      "New vectors (rprimd) of supercell:\n",
      " [[10.3  0.   0. ]\n",
      " [ 0.   3.4  0. ]\n",
      " [ 0.   0.   3.4]] \n",
      "The supercell should contain 5.999999999999999 atoms ... \n",
      "  -- OK \n",
      "\n"
     ]
    }
   ],
   "source": [
    "st = smart_structure_read(input_geo_file = 'Li2/POSCAR') # read poscar\n",
    "sc = supercell(st, [10,3,3]) # create 3x1x1 supercell, sizes close to 10 3 3 A; we need slab!"
   ]
  },
  {
   "cell_type": "markdown",
   "metadata": {},
   "source": [
    "\n",
    "###  Create 100 surfaces with different vacuum thickness, run and read"
   ]
  },
  {
   "cell_type": "code",
   "execution_count": 3,
   "metadata": {
    "scrolled": true
   },
   "outputs": [
    {
     "name": "stdout",
     "output_type": "stream",
     "text": [
      "-- Attention!, cluster None is not found, using default CEE \n",
      "\n",
      "-- check_kpoints(): Kpoint   mesh is:  [4, 10, 10] \n",
      "\n",
      "-- check_kpoints(): The actual k-spacings are  [0.15 0.18 0.18] \n",
      "\n",
      "-- POSCAR was written to /home/aksenov/recitations/Rec10_DS/recitationCD///Li311.opt/1.POSCAR \n",
      "\n",
      "-- Attention! ngkpt =  [4, 10, 10]  is adopted from struct_des which you provided for it  Li311  and kspacing =  0.2 \n",
      "\n",
      "\n",
      "Calculation ('Li311', 'opt', 1) successfully created\n",
      "\n",
      " \n",
      "\n",
      "-- Attention!, cluster None is not found, using default CEE \n",
      "\n",
      "-- check_kpoints(): Kpoint   mesh is:  [3, 10, 10] \n",
      "\n",
      "-- check_kpoints(): The actual k-spacings are  [0.19 0.18 0.18] \n",
      "\n",
      "-- POSCAR was written to /home/aksenov/recitations/Rec10_DS/recitationCD///Li_suf_1.opt/1.POSCAR \n",
      "\n",
      "-- Attention! ngkpt =  [3, 10, 10]  is adopted from struct_des which you provided for it  Li_suf_1  and kspacing =  0.2 \n",
      "\n",
      "\n",
      "Calculation ('Li_suf_1', 'opt', 1) successfully created\n",
      "\n",
      " \n",
      "\n",
      "-- Attention!, cluster None is not found, using default CEE \n",
      "\n",
      "-- check_kpoints(): Kpoint   mesh is:  [3, 10, 10] \n",
      "\n",
      "-- check_kpoints(): The actual k-spacings are  [0.17 0.18 0.18] \n",
      "\n",
      "-- POSCAR was written to /home/aksenov/recitations/Rec10_DS/recitationCD///Li_suf_2.opt/1.POSCAR \n",
      "\n",
      "-- Attention! ngkpt =  [3, 10, 10]  is adopted from struct_des which you provided for it  Li_suf_2  and kspacing =  0.2 \n",
      "\n",
      "\n",
      "Calculation ('Li_suf_2', 'opt', 1) successfully created\n",
      "\n",
      " \n",
      "\n",
      "-- Attention!, cluster None is not found, using default CEE \n",
      "\n",
      "-- check_kpoints(): Kpoint   mesh is:  [3, 10, 10] \n",
      "\n",
      "-- check_kpoints(): The actual k-spacings are  [0.16 0.18 0.18] \n",
      "\n",
      "-- POSCAR was written to /home/aksenov/recitations/Rec10_DS/recitationCD///Li_suf_3.opt/1.POSCAR \n",
      "\n",
      "-- Attention! ngkpt =  [3, 10, 10]  is adopted from struct_des which you provided for it  Li_suf_3  and kspacing =  0.2 \n",
      "\n",
      "\n",
      "Calculation ('Li_suf_3', 'opt', 1) successfully created\n",
      "\n",
      " \n",
      "\n",
      "-- Attention!, cluster None is not found, using default CEE \n",
      "\n",
      "-- check_kpoints(): Kpoint   mesh is:  [3, 10, 10] \n",
      "\n",
      "-- check_kpoints(): The actual k-spacings are  [0.15 0.18 0.18] \n",
      "\n",
      "-- POSCAR was written to /home/aksenov/recitations/Rec10_DS/recitationCD///Li_suf_4.opt/1.POSCAR \n",
      "\n",
      "-- Attention! ngkpt =  [3, 10, 10]  is adopted from struct_des which you provided for it  Li_suf_4  and kspacing =  0.2 \n",
      "\n",
      "\n",
      "Calculation ('Li_suf_4', 'opt', 1) successfully created\n",
      "\n",
      " \n",
      "\n",
      "-- Attention!, cluster None is not found, using default CEE \n",
      "\n",
      "-- check_kpoints(): Kpoint   mesh is:  [3, 10, 10] \n",
      "\n",
      "-- check_kpoints(): The actual k-spacings are  [0.14 0.18 0.18] \n",
      "\n",
      "-- POSCAR was written to /home/aksenov/recitations/Rec10_DS/recitationCD///Li_suf_5.opt/1.POSCAR \n",
      "\n",
      "-- Attention! ngkpt =  [3, 10, 10]  is adopted from struct_des which you provided for it  Li_suf_5  and kspacing =  0.2 \n",
      "\n",
      "\n",
      "Calculation ('Li_suf_5', 'opt', 1) successfully created\n",
      "\n",
      " \n",
      "\n",
      "-- Attention!, cluster None is not found, using default CEE \n",
      "\n",
      "-- check_kpoints(): Kpoint   mesh is:  [2, 10, 10] \n",
      "\n",
      "-- check_kpoints(): The actual k-spacings are  [0.19 0.18 0.18] \n",
      "\n",
      "-- POSCAR was written to /home/aksenov/recitations/Rec10_DS/recitationCD///Li_suf_6.opt/1.POSCAR \n",
      "\n",
      "-- Attention! ngkpt =  [2, 10, 10]  is adopted from struct_des which you provided for it  Li_suf_6  and kspacing =  0.2 \n",
      "\n",
      "\n",
      "Calculation ('Li_suf_6', 'opt', 1) successfully created\n",
      "\n",
      " \n",
      "\n",
      "-- Attention!, cluster None is not found, using default CEE \n",
      "\n",
      "-- check_kpoints(): Kpoint   mesh is:  [2, 10, 10] \n",
      "\n",
      "-- check_kpoints(): The actual k-spacings are  [0.18 0.18 0.18] \n",
      "\n",
      "-- POSCAR was written to /home/aksenov/recitations/Rec10_DS/recitationCD///Li_suf_7.opt/1.POSCAR \n",
      "\n",
      "-- Attention! ngkpt =  [2, 10, 10]  is adopted from struct_des which you provided for it  Li_suf_7  and kspacing =  0.2 \n",
      "\n",
      "\n",
      "Calculation ('Li_suf_7', 'opt', 1) successfully created\n",
      "\n",
      " \n",
      "\n",
      "-- Attention!, cluster None is not found, using default CEE \n",
      "\n",
      "-- check_kpoints(): Kpoint   mesh is:  [2, 10, 10] \n",
      "\n",
      "-- check_kpoints(): The actual k-spacings are  [0.17 0.18 0.18] \n",
      "\n",
      "-- POSCAR was written to /home/aksenov/recitations/Rec10_DS/recitationCD///Li_suf_8.opt/1.POSCAR \n",
      "\n",
      "-- Attention! ngkpt =  [2, 10, 10]  is adopted from struct_des which you provided for it  Li_suf_8  and kspacing =  0.2 \n",
      "\n",
      "\n",
      "Calculation ('Li_suf_8', 'opt', 1) successfully created\n",
      "\n",
      " \n",
      "\n",
      "-- Attention!, cluster None is not found, using default CEE \n",
      "\n",
      "-- check_kpoints(): Kpoint   mesh is:  [2, 10, 10] \n",
      "\n",
      "-- check_kpoints(): The actual k-spacings are  [0.16 0.18 0.18] \n",
      "\n",
      "-- POSCAR was written to /home/aksenov/recitations/Rec10_DS/recitationCD///Li_suf_9.opt/1.POSCAR \n",
      "\n",
      "-- Attention! ngkpt =  [2, 10, 10]  is adopted from struct_des which you provided for it  Li_suf_9  and kspacing =  0.2 \n",
      "\n",
      "\n",
      "Calculation ('Li_suf_9', 'opt', 1) successfully created\n",
      "\n",
      " \n",
      "\n",
      "-- Attention!, cluster None is not found, using default CEE \n",
      "\n",
      "-- check_kpoints(): Kpoint   mesh is:  [2, 10, 10] \n",
      "\n",
      "-- check_kpoints(): The actual k-spacings are  [0.15 0.18 0.18] \n",
      "\n",
      "-- POSCAR was written to /home/aksenov/recitations/Rec10_DS/recitationCD///Li_suf_10.opt/1.POSCAR \n",
      "\n",
      "-- Attention! ngkpt =  [2, 10, 10]  is adopted from struct_des which you provided for it  Li_suf_10  and kspacing =  0.2 \n",
      "\n",
      "\n",
      "Calculation ('Li_suf_10', 'opt', 1) successfully created\n",
      "\n",
      " \n",
      "\n"
     ]
    }
   ],
   "source": [
    "thickness_list = [1,2,3,4,5,6,7,8,9,10]\n",
    "add('Li311',    'opt', 1, up = 'up2', input_st = sc, it_folder = 'recitationCD/',     run = 0) \n",
    "\n",
    "for thickness in thickness_list:\n",
    "    ''\n",
    "    add('Li_suf_'+str(thickness), 'opt', 1, up = 'up2', input_st = sc.add_vacuum(0, thickness), it_folder = 'recitationCD/', run = 0)\n"
   ]
  },
  {
   "cell_type": "code",
   "execution_count": 4,
   "metadata": {
    "scrolled": true
   },
   "outputs": [
    {
     "name": "stdout",
     "output_type": "stream",
     "text": [
      "\n",
      "\n",
      "Max. F. tot  (meV/A) = \n",
      "[0]; \n",
      "\n",
      "-- name                          |  energy(eV)|    Vector lenghts (A)   | Stresses (MPa)     | N MD, N SCF    \n",
      "-- db['Li311.opt.1']             |  -11.3790  |10.30;3.43;3.43|   -184,175,175     |   1, 9,  9    \n",
      "\n",
      "\n",
      "Max. F. tot  (meV/A) = \n",
      "[342 323 130 121 116 110  84  77  67  68  70  66  42  28  30  30  28  26\n",
      "  24  22]; \n",
      "\n",
      "-- name                          |  energy(eV)|    Vector lenghts (A)   | Stresses (MPa)     | N MD, N SCF    \n",
      "-- db['Li_suf_1.opt.1']          |  -11.3258  |11.30;3.43;3.43|  -1197,-983,-983   |  20, 4, 85    \n",
      "\n",
      "\n",
      "Max. F. tot  (meV/A) = \n",
      "[308 298 197 187 169 151 141 145 142 137 116 106 100  67  65  56  48  33\n",
      "  27  27]; \n",
      "\n",
      "-- name                          |  energy(eV)|    Vector lenghts (A)   | Stresses (MPa)     | N MD, N SCF    \n",
      "-- db['Li_suf_2.opt.1']          |  -11.1996  |12.30;3.43;3.43| -1938,-1713,-1713  |  20, 5,104    \n",
      "\n",
      "\n",
      "Max. F. tot  (meV/A) = \n",
      "[200 192 113 108  95  92  83  82  79  80  91  97  80  96  97 119  88  73\n",
      "  68  68]; \n",
      "\n",
      "-- name                          |  energy(eV)|    Vector lenghts (A)   | Stresses (MPa)     | N MD, N SCF    \n",
      "-- db['Li_suf_3.opt.1']          |  -11.0413  |13.30;3.43;3.43| -2103,-2284,-2284  |  20, 5,109    \n",
      "-- Attention!, SCF was not converged to desirable prec -0.015 > 0.01 meV \n",
      "\n",
      "\n",
      "\n",
      "Max. F. tot  (meV/A) = \n",
      "[126 119  60  52  44  41  42  43  41  35  34  28  27  19  18  14  13  11\n",
      "  11  14]; \n",
      "\n",
      "-- name                          |  energy(eV)|    Vector lenghts (A)   | Stresses (MPa)     | N MD, N SCF    \n",
      "-- db['Li_suf_4.opt.1']          |  -10.7481  |14.30;3.43;3.43| -1239,-1273,-1273  |  20, 4, 88    \n",
      "-- Attention!, SCF was not converged to desirable prec 0.012 > 0.01 meV \n",
      "\n",
      "\n",
      "\n",
      "Max. F. tot  (meV/A) = \n",
      "[98 92 33 31 29 26 21 20 16  7]; \n",
      "\n",
      "-- name                          |  energy(eV)|    Vector lenghts (A)   | Stresses (MPa)     | N MD, N SCF    \n",
      "-- db['Li_suf_5.opt.1']          |  -10.7081  |15.30;3.43;3.43|  -183,-868,-868    |  10, 4, 45    \n",
      "\n",
      "\n",
      "Max. F. tot  (meV/A) = \n",
      "[93 87 29 28 26 23 21 18 20 22 20 19 18 16 15 14 14 13  8]; \n",
      "\n",
      "-- name                          |  energy(eV)|    Vector lenghts (A)   | Stresses (MPa)     | N MD, N SCF    \n",
      "-- db['Li_suf_6.opt.1']          |  -10.7018  |16.30;3.43;3.43|   -54,-788,-788    |  19, 3, 70    \n",
      "-- Attention!, SCF was not converged to desirable prec 0.014 > 0.01 meV \n",
      "\n",
      "\n",
      "\n",
      "Max. F. tot  (meV/A) = \n",
      "[92 85 27 26 30 30 30 28 20 20 18 18 18 16 17 17 16 14 16 15]; \n",
      "\n",
      "-- name                          |  energy(eV)|    Vector lenghts (A)   | Stresses (MPa)     | N MD, N SCF    \n",
      "-- db['Li_suf_7.opt.1']          |  -10.6980  |17.30;3.43;3.43|   84,-664,-664     |  20, 3, 64    \n",
      "\n",
      "\n",
      "Max. F. tot  (meV/A) = \n",
      "[91 85 28 26 24 23 24 22 21 19 16 16 43 15 14 16 16 11 11  9]; \n",
      "\n",
      "-- name                          |  energy(eV)|    Vector lenghts (A)   | Stresses (MPa)     | N MD, N SCF    \n",
      "-- db['Li_suf_8.opt.1']          |  -10.6996  |18.30;3.43;3.43|   -49,-714,-714    |  20, 3, 77    \n",
      "\n",
      "\n",
      "Max. F. tot  (meV/A) = \n",
      "[91 85 28 26 25 22 18 18 15  9]; \n",
      "\n",
      "-- name                          |  energy(eV)|    Vector lenghts (A)   | Stresses (MPa)     | N MD, N SCF    \n",
      "-- db['Li_suf_9.opt.1']          |  -10.6987  |19.30;3.43;3.43|   35,-633,-633     |  10, 4, 46    \n",
      "\n",
      "\n",
      "Max. F. tot  (meV/A) = \n",
      "[91 86 28 26 24 25 24 22 21 17 14 15 14 12 10]; \n",
      "\n",
      "-- name                          |  energy(eV)|    Vector lenghts (A)   | Stresses (MPa)     | N MD, N SCF    \n",
      "-- db['Li_suf_10.opt.1']         |  -10.6991  |20.30;3.43;3.43|   10,-615,-615     |  15, 4, 66    \n"
     ]
    }
   ],
   "source": [
    "res('Li311',    'opt', 1)\n",
    "for thickness in thickness_list:\n",
    "    ''\n",
    "    res('Li_suf_'+str(thickness), 'opt', 1, up = 'up1')"
   ]
  },
  {
   "cell_type": "code",
   "execution_count": 5,
   "metadata": {},
   "outputs": [
    {
     "name": "stdout",
     "output_type": "stream",
     "text": [
      "Surface energy = 0.036 J/m2; vacuum thickness =  1 A\n",
      "Surface energy = 0.122 J/m2; vacuum thickness =  2 A\n",
      "Surface energy = 0.229 J/m2; vacuum thickness =  3 A\n",
      "Surface energy = 0.429 J/m2; vacuum thickness =  4 A\n",
      "Surface energy = 0.456 J/m2; vacuum thickness =  5 A\n",
      "Surface energy = 0.460 J/m2; vacuum thickness =  6 A\n",
      "Surface energy = 0.463 J/m2; vacuum thickness =  7 A\n",
      "Surface energy = 0.462 J/m2; vacuum thickness =  8 A\n",
      "Surface energy = 0.462 J/m2; vacuum thickness =  9 A\n",
      "Surface energy = 0.462 J/m2; vacuum thickness = 10 A\n"
     ]
    }
   ],
   "source": [
    "Li311 = db['Li311', 'opt', 1] \n",
    "A = np.linalg.norm( np.cross(Li311.end.rprimd[1] , Li311.end.rprimd[2]) ) # surface area\n",
    "\n",
    "gamma_list = []\n",
    "for thickness in thickness_list:\n",
    "    Li_suf = db['Li_suf_'+str(thickness), 'opt', 1]\n",
    "\n",
    "    gamma = (Li_suf.e0 - Li311.e0)/A * header.eV_A_to_J_m / 2\n",
    "    gamma_list.append(gamma)\n",
    "    print('Surface energy = {:3.3f} J/m2; vacuum thickness = {:2d} A'.format(gamma, thickness) )"
   ]
  },
  {
   "cell_type": "code",
   "execution_count": 6,
   "metadata": {
    "scrolled": false
   },
   "outputs": [
    {
     "data": {
      "image/png": "[encoded data removed]",
      "text/plain": [
       "<Figure size 432x288 with 1 Axes>"
      ]
     },
     "metadata": {},
     "output_type": "display_data"
    },
    {
     "data": {
      "text/plain": [
       "''"
      ]
     },
     "execution_count": 6,
     "metadata": {},
     "output_type": "execute_result"
    }
   ],
   "source": [
    "        \n",
    "fit_and_plot(a = (thickness_list, gamma_list, '-o'), filename = None, ylabel = 'Surface energy, J/m$^2$', xlabel = 'Vacuum thickness, $\\AA$')\n"
   ]
  },
  {
   "cell_type": "markdown",
   "metadata": {},
   "source": [
    "### Optimize 100 surface"
   ]
  },
  {
   "cell_type": "code",
   "execution_count": 7,
   "metadata": {},
   "outputs": [
    {
     "name": "stdout",
     "output_type": "stream",
     "text": [
      "-- Calculating mul_matrix for ortho: [10, 10, 10] \n",
      "\n",
      "mul_matrix_float:\n",
      " [[2.91205591 0.         0.        ]\n",
      " [0.         2.91205591 0.        ]\n",
      " [0.         0.         2.91205591]] \n",
      "mul_matrix:\n",
      " [[3 0 0]\n",
      " [0 3 0]\n",
      " [0 0 3]] \n",
      "Old vectors (rprimd):\n",
      " [[3.4 0.  0. ]\n",
      " [0.  3.4 0. ]\n",
      " [0.  0.  3.4]] \n",
      "New vectors (rprimd) of supercell:\n",
      " [[10.3  0.   0. ]\n",
      " [ 0.  10.3  0. ]\n",
      " [ 0.   0.  10.3]] \n",
      "The supercell should contain 53.999999999999986 atoms ... \n",
      "  -- OK \n",
      "\n",
      "-- Attention!, cluster None is not found, using default CEE \n",
      "\n",
      "-- check_kpoints(): Kpoint   mesh is:  [3, 4, 4] \n",
      "\n",
      "-- check_kpoints(): The actual k-spacings are  [0.14 0.15 0.15] \n",
      "\n",
      "-- POSCAR was written to /home/aksenov/recitations/Rec10_DS/recitationCD///Li333_suf_5.opt_sym0/1.POSCAR \n",
      "\n",
      "-- Attention! ngkpt =  [3, 4, 4]  is adopted from struct_des which you provided for it  Li333_suf_5  and kspacing =  0.2 \n",
      "\n",
      "\n",
      "Calculation ('Li333_suf_5', 'opt_sym0', 1) successfully created\n",
      "\n",
      " \n",
      "\n"
     ]
    },
    {
     "data": {
      "text/plain": [
       "'Li333_suf_5'"
      ]
     },
     "execution_count": 7,
     "metadata": {},
     "output_type": "execute_result"
    }
   ],
   "source": [
    "sc = supercell(st, [10,10,10]) # create 3x3x3 supercell, sizes close to 10 10 10 A; we need slab!\n",
    "thickness = 5\n",
    "read_vasp_sets([('opt_sym0', 'opt',{'ISYM':0})]) #create new set: optimization without symetry constraints\n",
    "# add('Li333_suf_'+str(thickness), 'opt_sym0', 1, up = 'up2', input_st = sc.add_vacuum(0, thickness), it_folder = 'recitationCD/', run = 0)\n"
   ]
  },
  {
   "cell_type": "code",
   "execution_count": 5,
   "metadata": {},
   "outputs": [
    {
     "name": "stdout",
     "output_type": "stream",
     "text": [
      "\n",
      "\n",
      "Max. F. tot  (meV/A) = \n",
      "[69 61 25 23 19 15 13 14 16 16 13 13 12 12 12  8]; \n",
      "\n",
      "-- name                          |  energy(eV)|    Vector lenghts (A)   | Stresses (MPa)     | N MD, N SCF    \n",
      "-- db['Li333_suf_5.opt_sym0.1']  |  -96.3091  |15.30;10.30;10.30|  -103,-646,-646    |  16, 4, 69    \n"
     ]
    },
    {
     "data": {
      "text/plain": [
       "([\"db['Li333_suf_5.opt_sym0.1']  |  -96.3091  |15.30;10.30;10.30|  -103,-646,-646    |  16, 4, 69   \"],\n",
       " [])"
      ]
     },
     "execution_count": 5,
     "metadata": {},
     "output_type": "execute_result"
    }
   ],
   "source": [
    "thickness = 5\n",
    "res('Li333_suf_'+str(thickness), 'opt_sym0', 1, up = 'up1')"
   ]
  },
  {
   "cell_type": "code",
   "execution_count": 9,
   "metadata": {},
   "outputs": [
    {
     "name": "stdout",
     "output_type": "stream",
     "text": [
      "\n",
      "Database has been successfully updated\n",
      "\n"
     ]
    }
   ],
   "source": [
    "write_database()"
   ]
  },
  {
   "cell_type": "code",
   "execution_count": 10,
   "metadata": {},
   "outputs": [
    {
     "name": "stdout",
     "output_type": "stream",
     "text": [
      "-- POSCAR was written to /home/aksenov/recitations/Rec10_DS/xyz/POSCAR_Li333_suf_5_opt_sym0_1_end \n",
      "\n"
     ]
    }
   ],
   "source": [
    "db['Li333_suf_5.opt_sym0.1'].jmol() #open with jmol"
   ]
  },
  {
   "cell_type": "code",
   "execution_count": null,
   "metadata": {},
   "outputs": [],
   "source": []
  }
 ],
 "metadata": {
  "kernelspec": {
   "display_name": "Python 3",
   "language": "python",
   "name": "python3"
  },
  "language_info": {
   "codemirror_mode": {
    "name": "ipython",
    "version": 3
   },
   "file_extension": ".py",
   "mimetype": "text/x-python",
   "name": "python",
   "nbconvert_exporter": "python",
   "pygments_lexer": "ipython3",
   "version": "3.6.8"
  }
 },
 "nbformat": 4,
 "nbformat_minor": 2
}
