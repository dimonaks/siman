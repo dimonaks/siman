{
 "cells": [
  {
   "cell_type": "markdown",
   "metadata": {},
   "source": [
    "### Instruction\n",
    "0. Install siman - sudo pip3 install siman\n",
    "1. Prepare file with crystall structure in one of the following formats: cif, VASP, abinit\n",
    "2. Prepare file with input parameters (INCAR) or use pre-defined sets: 'static'\n",
    "3. Prepare POTCAR - potentials files\n",
    "4. For correct work of pip you may need to install visual studio from http://landinghub.visualstudio.com/visual-cpp-build-tools"
   ]
  },
  {
   "cell_type": "markdown",
   "metadata": {},
   "source": [
    "### Import libraries"
   ]
  },
  {
   "cell_type": "code",
   "execution_count": 5,
   "metadata": {},
   "outputs": [
    {
     "data": {
      "text/plain": [
       "({},\n",
       " {'aks': <siman.set_functions.InputSet at 0x7fcb0c8d5048>,\n",
       "  'ion_relax': <siman.set_functions.InputSet at 0x7fcb0c8d99b0>,\n",
       "  'opt': <siman.set_functions.InputSet at 0x7fcb0d2d1da0>,\n",
       "  'static': <siman.set_functions.InputSet at 0x7fcb0d2d1ef0>},\n",
       " 56)"
      ]
     },
     "execution_count": 5,
     "metadata": {},
     "output_type": "execute_result"
    }
   ],
   "source": [
    "from siman import header\n",
    "from siman.header import db\n",
    "from siman.SSHTools import SSHTools\n",
    "from siman.calc_manage import add, res\n",
    "from siman.database import write_database, read_database\n",
    "from siman.set_functions import read_vasp_sets\n",
    "from siman.calc_manage import smart_structure_read\n",
    "%matplotlib inline\n",
    "read_database() # read saved database if available"
   ]
  },
  {
   "cell_type": "markdown",
   "metadata": {},
   "source": [
    "### Set configuration parameters\n",
    "Configuration of siman package for each project can be provided in project_conf.py file, wich should be located in your project working directory. The example of this file can be found [here](https://github.com/dimonaks/siman/blob/master/project_template/project_conf.py). For global configuration put project_conf.py into your home directory (~) and rename to *simanrc.py*. \n",
    "\n",
    "Pay attention that *project_conf.py* has higher priority and will overwrite specified parameters from *simanrc.py* \n",
    "Eventually all configuration parameters are available under the siman.header modul\n"
   ]
  },
  {
   "cell_type": "code",
   "execution_count": 8,
   "metadata": {},
   "outputs": [],
   "source": [
    "#for the moment we need to provide path to VASP potentials \n",
    "header.PATH2POTENTIALS = '/hdd/home/aksenov/scientific_projects/PAW_PBE_VASP' #path to VASP POTENTIALS\n",
    "\n",
    "#and tell siman about remote cluster used for calculations\n",
    "user = \"d.aksenov\"\n",
    "host = \"10.30.16.168\"\n",
    "\n",
    "header.CLUSTERS['1'] = {\n",
    "'address':user+'@'+host, # this is used for ssh, make sure you have created passwordless [setup](https://www.thegeekdiary.com/centos-rhel-how-to-setup-passwordless-ssh-login/)\n",
    "'vasp_com':'mpirun  vasp_std', # command on your cluster to run VASP\n",
    "'homepath':'/home/'+user,  # your home folder on cluster\n",
    "'schedule':'SLURM',        #  job scheduler  on your cluster; other options: 'PBS', 'SGE', 'none' (no scheduler)\n",
    "'walltime':'72:00:00',     # time required for job\n",
    "'corenum':16,              # number of cores required for job\n",
    "'modules':'module load Compiler/Intel/17u8; module load Q-Ch/VASP/5.4.4_OPT; module load ScriptLang/python/3.6i_2018u3; \\nulimit -s unlimited\\n',\n",
    "}\n",
    "\n",
    "\n",
    "\n",
    "\n",
    "#Instead of passwordless setup or for Windows you can use ssh_object (paramiko module is used):\n",
    "header.ssh_object = SSHTools()\n",
    "header.ssh_object.setup(user=user, host=host, pkey=\"/home/aksenov/.ssh/id_rsa\")\n"
   ]
  },
  {
   "cell_type": "markdown",
   "metadata": {},
   "source": [
    "### Sets (paprameters of your calculation used in VASP)\n",
    "Siman has predefined sets for VASP calculations, they can be found in *header.varset* dictionary"
   ]
  },
  {
   "cell_type": "code",
   "execution_count": 6,
   "metadata": {},
   "outputs": [
    {
     "name": "stdout",
     "output_type": "stream",
     "text": [
      "{'opt': <siman.set_functions.InputSet object at 0x7fcb0d2d1da0>, 'ion_relax': <siman.set_functions.InputSet object at 0x7fcb0c8d99b0>, 'aks': <siman.set_functions.InputSet object at 0x7fcb0c8d5048>, 'static': <siman.set_functions.InputSet object at 0x7fcb0d2d1ef0>}\n",
      "-- s.vasp_params['ISTART']        = 0  \n",
      "-- s.vasp_params['NELM']          = 50  \n",
      "-- s.vasp_params['EDIFF']         = 1e-05  \n",
      "-- s.vasp_params['NSW']           = 0  \n",
      "-- s.vasp_params['EDIFFG']        = 0  \n",
      "-- s.vasp_params['IBRION']        = 1  \n",
      "-- s.vasp_params['ISIF']          = 2  \n",
      "-- s.vasp_params['PREC']          = Normal  \n",
      "-- s.vasp_params['ALGO']          = Normal  \n",
      "-- s.vasp_params['ENCUT']         = 400  \n",
      "-- s.vasp_params['ENAUG']         = 776.16  \n",
      "-- s.vasp_params['KSPACING']      = 0.235  \n",
      "-- s.vasp_params['KGAMMA']        = .TRUE.  \n",
      "-- s.vasp_params['LREAL']         = Auto  \n",
      "-- s.vasp_params['ISMEAR']        = 1  \n",
      "-- s.vasp_params['SIGMA']         = 0.1  \n",
      "-- s.vasp_params['LPLANE']        = .TRUE.  \n",
      "-- s.vasp_params['NPAR']          = 1  \n",
      "-- ngkpt: None \n",
      "\n",
      "-- POTDIR: {300: 'void', 200: 'octa', 0: 'n', 1: 'H', 2: 'He', 3: 'Li', 4: 'Be', 5: 'B', 6: 'C', 7: 'N', 8: 'O', 9: 'F', 10: 'Ne', 11: 'Na', 12: 'Mg', 13: 'Al', 14: 'Si', 15: 'P', 16: 'S', 17: 'Cl', 18: 'Ar', 19: 'K', 20: 'Ca', 21: 'Sc', 22: 'Ti', 23: 'V', 24: 'Cr', 25: 'Mn', 26: 'Fe', 27: 'Co', 28: 'Ni', 29: 'Cu', 30: 'Zn', 31: 'Ga', 32: 'Ge', 33: 'As', 34: 'Se', 35: 'Br', 36: 'Kr', 37: 'Rb', 38: 'Sr', 39: 'Y', 40: 'Zr', 41: 'Nb', 42: 'Mo', 43: 'Tc', 44: 'Ru', 45: 'Rh', 46: 'Pd', 47: 'Ag', 48: 'Cd', 49: 'In', 50: 'Sn', 51: 'Sb', 52: 'Te', 53: 'I', 54: 'Xe', 55: 'Cs', 56: 'Ba', 57: 'La', 58: 'Ce', 59: 'Pr', 60: 'Nd', 61: 'Pm', 62: 'Sm', 63: 'Eu', 64: 'Gd', 65: 'Tb', 66: 'Dy', 67: 'Ho', 68: 'Er', 69: 'Tm', 70: 'Yb', 71: 'Lu', 72: 'Hf', 73: 'Ta', 74: 'W', 75: 'Re', 76: 'Os', 77: 'Ir', 78: 'Pt', 79: 'Au', 80: 'Hg', 81: 'Tl', 82: 'Pb', 83: 'Bi', 84: 'Po', 85: 'At', 86: 'Rn', 87: 'Fr', 88: 'Ra', 89: 'Ac', 90: 'Th', 91: 'Pa', 92: 'U', 93: 'Np', 94: 'Pu', 95: 'Am', 96: 'Cm', 97: 'Bk', 98: 'Cf', 99: 'Es', 100: 'Fm', 101: 'Md', 102: 'No', 103: 'Lr', 104: 'Rf', 105: 'Db', 106: 'Sg', 107: 'Bh', 108: 'Hs', 109: 'Mt', 110: 'Ds', 111: 'Rg', 112: 'Cn', 114: 'Uuq', 116: 'Uuh'} \n"
     ]
    }
   ],
   "source": [
    "header.varset['static'].printme()"
   ]
  },
  {
   "cell_type": "markdown",
   "metadata": {},
   "source": [
    "### Run new calculation add()\n",
    "The function will:\n",
    "1. Read crystall structure from Bi2Se3_mp-541837_computed.POSCAR\n",
    "2. Create all VASP files in folder 'Bi2Se3/Bi2Se3.static'\n",
    "3. Copy files to CEE cluster into 'topologic/Bi2Se3/Bi2Se3.static' folder\n",
    "4. Use run = 1 to submit the calculation"
   ]
  },
  {
   "cell_type": "code",
   "execution_count": 10,
   "metadata": {},
   "outputs": [
    {
     "name": "stdout",
     "output_type": "stream",
     "text": [
      "-- Attention!, cluster None is not found, using default default \n",
      "\n",
      "-- check_kpoints(): Kpoint   mesh is:  [8, 8, 8] \n",
      "\n",
      "-- check_kpoints(): The actual k-spacings are  [ 0.22  0.22  0.22] \n",
      "\n",
      "-- POSCAR was written to /hdd/home/aksenov/Simulation_wrapper/siman/tutorials/Bi2Se3//Bi2Se3.static/1.POSCAR \n",
      "\n",
      "-- Attention! ngkpt =  [8, 8, 8]  is adopted from struct_des which you provided for it  Bi2Se3  and kspacing =  0.235 \n",
      "\n",
      "\n",
      "Calculation ('Bi2Se3', 'static', 1) successfully created\n",
      "\n",
      " \n",
      "\n",
      "JOBID PARTITION     NAME     USER ST       TIME  NODES NODELIST(REASON)\n",
      "              3126       AMG Cu310A2C    emily  R 2-10:04:34      1 node-amg01\n",
      "              3127       AMG Cu310A2C    emily  R 2-10:04:34      1 node-amg02\n",
      "              3281       AMG tetracen n.tukach  R      16:03      1 node-amg05\n",
      "              3145       AMG p2_molec n.tukach  R   18:39:15      1 node-amg11\n",
      "              3140       AMG F4TCNQ_o n.tukach  R   19:13:06      1 node-amg09\n",
      "              3137       AMG p2_molec n.tukach  R   19:21:17      1 node-amg07\n",
      "              3136       AMG p1_molec n.tukach  R   19:27:24      1 node-amg04\n",
      "              3135       AMG beryl+H2 n.tukach  R   21:49:19      1 node-amg06\n",
      "              3130       AMG xfpceOH. d.akseno  R 1-18:47:04      1 node-amg03\n",
      "Submitted batch job 3293\n",
      "             JOBID PARTITION     NAME     USER ST       TIME  NODES NODELIST(REASON)\n",
      "              3293       AMG Bi2Se3.s d.akseno PD       0:00      1 (None)\n",
      "              3126       AMG Cu310A2C    emily  R 2-10:04:34      1 node-amg01\n",
      "              3127       AMG Cu310A2C    emily  R 2-10:04:34      1 node-amg02\n",
      "              3281       AMG tetracen n.tukach  R      16:03      1 node-amg05\n",
      "              3145       AMG p2_molec n.tukach  R   18:39:15      1 node-amg11\n",
      "              3140       AMG F4TCNQ_o n.tukach  R   19:13:06      1 node-amg09\n",
      "              3137       AMG p2_molec n.tukach  R   19:21:17      1 node-amg07\n",
      "              3136       AMG p1_molec n.tukach  R   19:27:24      1 node-amg04\n",
      "              3135       AMG beryl+H2 n.tukach  R   21:49:19      1 node-amg06\n",
      "              3130       AMG xfpceOH. d.akseno  R 1-18:47:04      1 node-amg03 \n",
      "\n",
      "-- To read results use  res_loop('Bi2Se3', ['static'], [1], show = 'fo'  )     # , on 2019-06-28   ; possible options for show: fit, fo, fop, en, mag, magp, smag, maga, occ, occ1, mep, mepp \n",
      "\n"
     ]
    },
    {
     "data": {
      "text/plain": [
       "'Bi2Se3'"
      ]
     },
     "execution_count": 10,
     "metadata": {},
     "output_type": "execute_result"
    }
   ],
   "source": [
    "st = smart_structure_read(input_geo_file = 'Bi2Se3_mp-541837_computed.POSCAR')\n",
    "\n",
    "add('Bi2Se3', 'static', 1, input_st = st, it_folder = 'Bi2Se3', run = 0)"
   ]
  },
  {
   "cell_type": "markdown",
   "metadata": {},
   "source": [
    "Use *run=1* to run your job"
   ]
  },
  {
   "cell_type": "markdown",
   "metadata": {},
   "source": [
    "### Read results res()\n",
    "The function get OUTCAR files from server and parse them"
   ]
  },
  {
   "cell_type": "code",
   "execution_count": 11,
   "metadata": {},
   "outputs": [
    {
     "name": "stdout",
     "output_type": "stream",
     "text": [
      "\n",
      "\n",
      "Max. F. tot  (meV/A) = \n",
      "[65]; \n",
      "\n",
      "-- name                          |  energy(eV)|    Vector lenghts (A)   | Stresses (MPa)     | N MD, N SCF    \n",
      "-- db['Bi2Se3.static.1']         |  -20.1543  |10.27;10.27;10.27|  -680,-680,-657    |   1,13, 13    \n"
     ]
    },
    {
     "data": {
      "text/plain": [
       "([\"db['Bi2Se3.static.1']         |  -20.1543  |10.27;10.27;10.27|  -680,-680,-657    |   1,13, 13   \"],\n",
       " [])"
      ]
     },
     "execution_count": 11,
     "metadata": {},
     "output_type": "execute_result"
    }
   ],
   "source": [
    "res('Bi2Se3', 'static', 1, check_job = 0)"
   ]
  },
  {
   "cell_type": "markdown",
   "metadata": {},
   "source": [
    "### Optimize cell volume\n",
    "Make sure that ~/tools/fit_tool.py is on cluster;\n",
    "To copy the file on linux you should run something like this \n",
    "\n",
    "*scp siman/cluster_tools/fit_tool.py  user@cluster_addres:~/tools/*\n",
    "\n"
   ]
  },
  {
   "cell_type": "code",
   "execution_count": 10,
   "metadata": {},
   "outputs": [
    {
     "name": "stdout",
     "output_type": "stream",
     "text": [
      "-- Attention!, cluster None is not found, using default ut1 \n",
      "\n",
      "-- add_loop_scale(): Preparing   scale  calculation ...  \n",
      "\n",
      "-- inherit_ngkpt(): the k-grid from Bi2Se3 was inherited to Bi2Se3.su \n",
      "\n",
      "-- File xyz/Bi2Se3.static.1.end_used_for_scaling.xyz was written \n",
      "\n",
      "-- Scale_region is (-5, 5) \n",
      "\n",
      "Scales are [-5.         -3.33333333 -1.66666667  0.          1.66666667  3.33333333\n",
      "  5.        ] \n",
      "\n",
      "-- Warning! File ./Bi2Se3/Bi2Se3.su/Bi2Se3.su.auto_created_scaled_image.1.geo was replaced \n",
      "\n",
      "-- File xyz/Bi2Se3.su.1.xyz was written \n",
      "\n",
      "-- Warning! File ./Bi2Se3/Bi2Se3.su/Bi2Se3.su.auto_created_scaled_image.2.geo was replaced \n",
      "\n",
      "-- File xyz/Bi2Se3.su.2.xyz was written \n",
      "\n",
      "-- Warning! File ./Bi2Se3/Bi2Se3.su/Bi2Se3.su.auto_created_scaled_image.3.geo was replaced \n",
      "\n",
      "-- File xyz/Bi2Se3.su.3.xyz was written \n",
      "\n",
      "-- Warning! File ./Bi2Se3/Bi2Se3.su/Bi2Se3.su.auto_created_scaled_image.4.geo was replaced \n",
      "\n",
      "-- File xyz/Bi2Se3.su.4.xyz was written \n",
      "\n",
      "-- Warning! File ./Bi2Se3/Bi2Se3.su/Bi2Se3.su.auto_created_scaled_image.5.geo was replaced \n",
      "\n",
      "-- File xyz/Bi2Se3.su.5.xyz was written \n",
      "\n",
      "-- Warning! File ./Bi2Se3/Bi2Se3.su/Bi2Se3.su.auto_created_scaled_image.6.geo was replaced \n",
      "\n",
      "-- File xyz/Bi2Se3.su.6.xyz was written \n",
      "\n",
      "-- Warning! File ./Bi2Se3/Bi2Se3.su/Bi2Se3.su.auto_created_scaled_image.7.geo was replaced \n",
      "\n",
      "-- File xyz/Bi2Se3.su.7.xyz was written \n",
      "\n",
      "-- 7 scale images have been created. \n",
      "\n",
      "-- name                          |  energy(eV)|    Vector lenghts (A)   | Stresses (MPa)     | N MD, N SCF    \n",
      "-- db['Bi2Se3.su.static.1']      |  -19.4364  |9.75;9.75;9.75| 11309,11321,10881  |   1,12, 12    \n",
      "-- check_kpoints(): Kpoint   mesh is:  [8, 8, 8] \n",
      "\n",
      "-- check_kpoints(): The actual k-spacings are  [0.23 0.23 0.23] \n",
      "\n",
      "-- POSCAR was written to /home/aksenov/Simulation_wrapper/siman/tutorials/Bi2Se3//Bi2Se3.su.static/1.POSCAR \n",
      "\n",
      "\n",
      "Calculation ('Bi2Se3.su', 'static', 1) successfully created\n",
      "\n",
      " \n",
      "\n",
      "-- name                          |  energy(eV)|    Vector lenghts (A)   | Stresses (MPa)     | N MD, N SCF    \n",
      "-- db['Bi2Se3.su.static.2']      |  -19.8495  |9.92;9.92;9.92|  6357,6365,6100    |   1,13, 13    \n",
      "-- check_kpoints(): Kpoint   mesh is:  [8, 8, 8] \n",
      "\n",
      "-- check_kpoints(): The actual k-spacings are  [0.23 0.23 0.23] \n",
      "\n",
      "-- POSCAR was written to /home/aksenov/Simulation_wrapper/siman/tutorials/Bi2Se3//Bi2Se3.su.static/2.POSCAR \n",
      "\n",
      "\n",
      "Calculation ('Bi2Se3.su', 'static', 2) successfully created\n",
      "\n",
      " \n",
      "\n",
      "-- name                          |  energy(eV)|    Vector lenghts (A)   | Stresses (MPa)     | N MD, N SCF    \n",
      "-- db['Bi2Se3.su.static.3']      |  -20.0802  |10.09;10.09;10.09|  2443,2446,2330    |   1,13, 13    \n",
      "-- check_kpoints(): Kpoint   mesh is:  [8, 8, 8] \n",
      "\n",
      "-- check_kpoints(): The actual k-spacings are  [0.22 0.22 0.22] \n",
      "\n",
      "-- POSCAR was written to /home/aksenov/Simulation_wrapper/siman/tutorials/Bi2Se3//Bi2Se3.su.static/3.POSCAR \n",
      "\n",
      "\n",
      "Calculation ('Bi2Se3.su', 'static', 3) successfully created\n",
      "\n",
      " \n",
      "\n",
      "-- name                          |  energy(eV)|    Vector lenghts (A)   | Stresses (MPa)     | N MD, N SCF    \n",
      "-- db['Bi2Se3.su.static.4']      |  -20.1543  |10.27;10.27;10.27|  -680,-680,-657    |   1,13, 13    \n",
      "-- check_kpoints(): Kpoint   mesh is:  [8, 8, 8] \n",
      "\n",
      "-- check_kpoints(): The actual k-spacings are  [0.22 0.22 0.22] \n",
      "\n",
      "-- POSCAR was written to /home/aksenov/Simulation_wrapper/siman/tutorials/Bi2Se3//Bi2Se3.su.static/4.POSCAR \n",
      "\n",
      "\n",
      "Calculation ('Bi2Se3.su', 'static', 4) successfully created\n",
      "\n",
      " \n",
      "\n",
      "-- name                          |  energy(eV)|    Vector lenghts (A)   | Stresses (MPa)     | N MD, N SCF    \n",
      "-- db['Bi2Se3.su.static.5']      |  -20.0988  |10.44;10.44;10.44| -3124,-3126,-3036  |   1,13, 13    \n",
      "-- check_kpoints(): Kpoint   mesh is:  [8, 8, 8] \n",
      "\n",
      "-- check_kpoints(): The actual k-spacings are  [0.21 0.21 0.21] \n",
      "\n",
      "-- POSCAR was written to /home/aksenov/Simulation_wrapper/siman/tutorials/Bi2Se3//Bi2Se3.su.static/5.POSCAR \n",
      "\n",
      "\n",
      "Calculation ('Bi2Se3.su', 'static', 5) successfully created\n",
      "\n",
      " \n",
      "\n",
      "-- name                          |  energy(eV)|    Vector lenghts (A)   | Stresses (MPa)     | N MD, N SCF    \n",
      "-- db['Bi2Se3.su.static.6']      |  -19.9327  |10.61;10.61;10.61| -5000,-5005,-4839  |   1,13, 13    \n",
      "-- check_kpoints(): Kpoint   mesh is:  [8, 8, 8] \n",
      "\n",
      "-- check_kpoints(): The actual k-spacings are  [0.21 0.21 0.21] \n",
      "\n",
      "-- POSCAR was written to /home/aksenov/Simulation_wrapper/siman/tutorials/Bi2Se3//Bi2Se3.su.static/6.POSCAR \n",
      "\n",
      "\n",
      "Calculation ('Bi2Se3.su', 'static', 6) successfully created\n",
      "\n",
      " \n",
      "\n",
      "-- name                          |  energy(eV)|    Vector lenghts (A)   | Stresses (MPa)     | N MD, N SCF    \n",
      "-- db['Bi2Se3.su.static.7']      |  -19.6756  |10.78;10.78;10.78| -6438,-6444,-6214  |   1,13, 13    \n",
      "-- check_kpoints(): Kpoint   mesh is:  [8, 8, 8] \n",
      "\n",
      "-- check_kpoints(): The actual k-spacings are  [0.21 0.21 0.21] \n",
      "\n",
      "-- POSCAR was written to /home/aksenov/Simulation_wrapper/siman/tutorials/Bi2Se3//Bi2Se3.su.static/7.POSCAR \n",
      "\n",
      "-- Attention! ngkpt =  [8, 8, 8]  is adopted from struct_des which you provided for it  Bi2Se3.su  and kspacing =  0.235 \n",
      "\n",
      "\n",
      "Calculation ('Bi2Se3.su', 'static', 7) successfully created\n",
      "\n",
      " \n",
      "\n",
      "Your job 26370 (\"Bi2Se3.su.static.run\") has been submitted\n",
      "job-ID  prior   name       user         state submit/start at     queue                          slots ja-task-ID \n",
      "-----------------------------------------------------------------------------------------------------------------\n",
      "  26370 0.00000 Bi2Se3.su. aksenov      qw    11/23/2018 16:07:05                                   24 \n",
      "\n",
      "-- To read results use  res_loop('Bi2Se3.su', ['static'], [1, 2, 3, 4, 5, 6, 7], show = 'fo'  )     # , on 2018-11-23   ; possible options for show: fit, fo, fop, en, mag, magp, smag, maga, occ, occ1, mep, mepp \n",
      "\n"
     ]
    },
    {
     "data": {
      "text/plain": [
       "'Bi2Se3.su'"
      ]
     },
     "execution_count": 10,
     "metadata": {},
     "output_type": "execute_result"
    }
   ],
   "source": [
    "st = smart_structure_read(input_geo_file = 'Bi2Se3_mp-541837_computed.POSCAR')\n",
    "add('Bi2Se3', 'static', 1, input_st = st, it_folder = 'Bi2Se3', \n",
    "    calc_method = 'uniform_scale', scale_region = (-5, 5), run = 1) # it_folder is a name of directory for this calculation"
   ]
  },
  {
   "cell_type": "code",
   "execution_count": 15,
   "metadata": {},
   "outputs": [
    {
     "name": "stdout",
     "output_type": "stream",
     "text": [
      "-- name                          |  energy(eV)|    Vector lenghts (A)   | Stresses (MPa)     | N MD, N SCF    \n",
      "-- db['Bi2Se3.su.static.1']      |  -19.4364  |9.75;9.75;9.75| 11309,11321,10881  |   1,12, 12    \n",
      "-- db['Bi2Se3.su.static.2']      |  -19.8495  |9.92;9.92;9.92|  6357,6365,6100    |   1,13, 13    \n",
      "-- db['Bi2Se3.su.static.3']      |  -20.0802  |10.09;10.09;10.09|  2443,2446,2330    |   1,13, 13    \n",
      "-- db['Bi2Se3.su.static.4']      |  -20.1543  |10.27;10.27;10.27|  -680,-680,-657    |   1,13, 13    \n",
      "-- db['Bi2Se3.su.static.5']      |  -20.0988  |10.44;10.44;10.44| -3124,-3126,-3036  |   1,13, 13    \n",
      "-- db['Bi2Se3.su.static.6']      |  -19.9327  |10.61;10.61;10.61| -5000,-5005,-4839  |   1,13, 13    \n",
      "-- db['Bi2Se3.su.static.7']      |  -19.6756  |10.78;10.78;10.78| -6438,-6444,-6214  |   1,13, 13    \n",
      "-- db['Bi2Se3.su.static.100']    |  -20.1544  |10.27;10.27;10.27|  -799,-800,-774    |   1,13, 13    \n",
      "alpha, energy: 23.56, -19.436\n",
      "alpha, energy: 23.56, -19.849\n",
      "alpha, energy: 23.56, -20.080\n",
      "alpha, energy: 23.56, -20.154\n",
      "alpha, energy: 23.56, -20.099\n",
      "alpha, energy: 23.56, -19.933\n",
      "alpha, energy: 23.56, -19.676\n",
      "alpha, energy: 23.56, -20.154\n",
      "-- Image saved to  figs/angle.eps \n",
      "\n",
      "\n",
      "        v0 = 152.10466285102348 A^3\n",
      "        a0 = 5.338027939754223 A\n",
      "        E0 = -20.15465796451521 eV\n",
      "        B  = 0.34134080321758825 eV/A^3 \n",
      "\n"
     ]
    },
    {
     "data": {
      "image/png": "[encoded data removed]",
      "text/plain": [
       "<matplotlib.figure.Figure at 0x7f2e627a5390>"
      ]
     },
     "metadata": {},
     "output_type": "display_data"
    },
    {
     "name": "stdout",
     "output_type": "stream",
     "text": [
      "-- fit results are saved in  figs/Bi2Se3.su.static.100.png \n",
      "\n"
     ]
    },
    {
     "data": {
      "text/plain": [
       "([\"db['Bi2Se3.su.static.100']    |  -20.1544  |10.27;10.27;10.27|  -799,-800,-774    |   1,13, 13   \"],\n",
       " [])"
      ]
     },
     "execution_count": 15,
     "metadata": {},
     "output_type": "execute_result"
    }
   ],
   "source": [
    "res('Bi2Se3.su', 'static', list(range(1,8))+[100], up = 'up', show = 'fit', analys_type = 'fit_a', check_job = 0)"
   ]
  },
  {
   "cell_type": "markdown",
   "metadata": {},
   "source": [
    "### Change SET parameters"
   ]
  },
  {
   "cell_type": "code",
   "execution_count": null,
   "metadata": {},
   "outputs": [],
   "source": [
    "read_vasp_sets([('ion_relax', 'static', {'ISIF':2, 'NSW':20, 'EDIFFG':-0.025}, 'override')]) #new set 'ion_relax' from 'static' with 'NSW' = 20\n",
    "print('NSW = ', header.varset['ion_relax'].vasp_params['NSW'])"
   ]
  },
  {
   "cell_type": "code",
   "execution_count": null,
   "metadata": {},
   "outputs": [],
   "source": [
    "add('Bi2Se3', 'ion_relax', 1, input_geo_file = 'Bi2Se3_mp-541837_computed.POSCAR', run = 1) # no need"
   ]
  },
  {
   "cell_type": "markdown",
   "metadata": {},
   "source": [
    "### Calculate relaxation energy"
   ]
  },
  {
   "cell_type": "code",
   "execution_count": null,
   "metadata": {},
   "outputs": [],
   "source": [
    "res('Bi2Se3', 'ion_relax', 1)\n",
    "print('Relaxation energy = {:.6} meV'.format(1000*(db['Bi2Se3','ion_relax', 1].energy_sigma0 - db['Bi2Se3', 'static', 1].energy_sigma0)))"
   ]
  },
  {
   "cell_type": "markdown",
   "metadata": {},
   "source": [
    "### Inherit optimized structure and relax atomic positions"
   ]
  },
  {
   "cell_type": "code",
   "execution_count": 12,
   "metadata": {},
   "outputs": [
    {
     "name": "stdout",
     "output_type": "stream",
     "text": [
      "-- Attention!, cluster None is not found, using default default \n",
      "\n",
      "-- Directory ./Bi2Se3/Bi2Se3.ifn  was created \n",
      "\n",
      "-- File xyz/Bi2Se3.static.1.end.xyz was written \n",
      "\n",
      "-- inherit_ngkpt(): the k-grid from Bi2Se3 was inherited to Bi2Se3.ifn \n",
      "\n",
      "-- check_kpoints(): Kpoint   mesh is:  [8, 8, 8] \n",
      "\n",
      "-- check_kpoints(): The actual k-spacings are  [ 0.22  0.22  0.22] \n",
      "\n",
      "-- POSCAR was written to /hdd/home/aksenov/Simulation_wrapper/siman/tutorials/Bi2Se3//Bi2Se3.ifn.ion_relax/1.POSCAR \n",
      "\n",
      "-- Attention! ngkpt =  [8, 8, 8]  is adopted from struct_des which you provided for it  Bi2Se3.ifn  and kspacing =  0.235 \n",
      "\n",
      "\n",
      "Calculation ('Bi2Se3.ifn', 'ion_relax', 1) successfully created\n",
      "\n",
      " \n",
      "\n",
      "JOBID PARTITION     NAME     USER ST       TIME  NODES NODELIST(REASON)\n",
      "              3126       AMG Cu310A2C    emily  R 2-10:07:39      1 node-amg01\n",
      "              3127       AMG Cu310A2C    emily  R 2-10:07:39      1 node-amg02\n",
      "              3281       AMG tetracen n.tukach  R      19:08      1 node-amg05\n",
      "              3145       AMG p2_molec n.tukach  R   18:42:20      1 node-amg11\n",
      "              3140       AMG F4TCNQ_o n.tukach  R   19:16:11      1 node-amg09\n",
      "              3137       AMG p2_molec n.tukach  R   19:24:22      1 node-amg07\n",
      "              3136       AMG p1_molec n.tukach  R   19:30:29      1 node-amg04\n",
      "              3135       AMG beryl+H2 n.tukach  R   21:52:24      1 node-amg06\n",
      "              3130       AMG xfpceOH. d.akseno  R 1-18:50:09      1 node-amg03\n",
      "Submitted batch job 3294\n",
      "             JOBID PARTITION     NAME     USER ST       TIME  NODES NODELIST(REASON)\n",
      "              3294       AMG Bi2Se3.i d.akseno PD       0:00      1 (None)\n",
      "              3126       AMG Cu310A2C    emily  R 2-10:07:39      1 node-amg01\n",
      "              3127       AMG Cu310A2C    emily  R 2-10:07:39      1 node-amg02\n",
      "              3281       AMG tetracen n.tukach  R      19:08      1 node-amg05\n",
      "              3145       AMG p2_molec n.tukach  R   18:42:20      1 node-amg11\n",
      "              3140       AMG F4TCNQ_o n.tukach  R   19:16:11      1 node-amg09\n",
      "              3137       AMG p2_molec n.tukach  R   19:24:22      1 node-amg07\n",
      "              3136       AMG p1_molec n.tukach  R   19:30:29      1 node-amg04\n",
      "              3135       AMG beryl+H2 n.tukach  R   21:52:24      1 node-amg06\n",
      "              3130       AMG xfpceOH. d.akseno  R 1-18:50:09      1 node-amg03 \n",
      "\n",
      "-- To read results use  res_loop('Bi2Se3.ifn', ['ion_relax'], [1], show = 'fo'  )     # , on 2019-06-28   ; possible options for show: fit, fo, fop, en, mag, magp, smag, maga, occ, occ1, mep, mepp \n",
      "\n"
     ]
    },
    {
     "data": {
      "text/plain": [
       "<siman.classes.CalculationVasp at 0x7fcb0779ce10>"
      ]
     },
     "execution_count": 12,
     "metadata": {},
     "output_type": "execute_result"
    }
   ],
   "source": [
    "Bi2Se3 = db['Bi2Se3.static.1'] # structure from database\n",
    "\n",
    "Bi2Se3.run('ion_relax', run = 1)\n",
    "\n",
    "#you can also use the command below, but it is deprecated\n",
    "# add('Bi2Se3.su', 'ion_relax', 100, inherit_option = 'full', run = 0, override = 1)\n",
    "# res('Bi2Se3.su.if', ['ion_relax'], [100], show = 'fo'  )"
   ]
  },
  {
   "cell_type": "code",
   "execution_count": null,
   "metadata": {},
   "outputs": [],
   "source": [
    "#To read results run again\n",
    "Bi2Se3.run('ion_relax')"
   ]
  },
  {
   "cell_type": "code",
   "execution_count": null,
   "metadata": {},
   "outputs": [],
   "source": [
    "# you may need to recalculate your job, for this use\n",
    "Bi2Se3.run('ion_relax', up = 'up2', add = 1)"
   ]
  },
  {
   "cell_type": "code",
   "execution_count": null,
   "metadata": {},
   "outputs": [],
   "source": [
    "#several inherit options are available with iopt keyword: \n",
    "    #full - full inherit including magnetic moments \n",
    "    #full_nomag - inherit structure, but magnetic moments are initialized with default values for chosen set\n",
    "    #full_chg - inherit charge file\n",
    "    \n",
    "    \n",
    "Bi2Se3.run('ion_relax', iopt = 'full')   \n",
    "#By default iopt = 'full_nomag'"
   ]
  },
  {
   "cell_type": "markdown",
   "metadata": {},
   "source": [
    "### Inherit structure and create supercell 222"
   ]
  },
  {
   "cell_type": "code",
   "execution_count": null,
   "metadata": {},
   "outputs": [],
   "source": [
    "add('Bi2Se3.su', 'static', 100, inherit_option = 'supercell', run = 0, mul_matrix = [[2,0,0],[0,2,0],[0,0,2]])"
   ]
  },
  {
   "cell_type": "code",
   "execution_count": null,
   "metadata": {},
   "outputs": [],
   "source": [
    "#or step by step\n",
    "Bi2Se3 = db['Bi2Se3.static.1']\n",
    "mul_matrix = [[2,0,0],[0,2,0],[0,0,2]]\n",
    "sc = create_supercell(Bi2Se3, mul_matrix)\n",
    "add('Bi2Se3.sc', 'static', 1, input_st = sc, it_folder = 'Bi2Se3', run = 0)"
   ]
  },
  {
   "cell_type": "markdown",
   "metadata": {},
   "source": [
    "### Write result in compact binary form -  write_database()\n",
    "The function creates several files called calc.gdbm3 and only_calc.gdbm3 in the current folder.\n",
    "On the next run the function read_database() will read them and you can access you results using res_loop() or calc dictionary"
   ]
  },
  {
   "cell_type": "code",
   "execution_count": 8,
   "metadata": {},
   "outputs": [
    {
     "name": "stdout",
     "output_type": "stream",
     "text": [
      "\n",
      "Database has been successfully updated\n",
      "\n"
     ]
    }
   ],
   "source": [
    "write_database()"
   ]
  },
  {
   "cell_type": "code",
   "execution_count": null,
   "metadata": {},
   "outputs": [],
   "source": []
  }
 ],
 "metadata": {
  "kernelspec": {
   "display_name": "Python 3",
   "language": "python",
   "name": "python3"
  },
  "language_info": {
   "codemirror_mode": {
    "name": "ipython",
    "version": 3
   },
   "file_extension": ".py",
   "mimetype": "text/x-python",
   "name": "python",
   "nbconvert_exporter": "python",
   "pygments_lexer": "ipython3",
   "version": "3.6.8"
  }
 },
 "nbformat": 4,
 "nbformat_minor": 1
}
