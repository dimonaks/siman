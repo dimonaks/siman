{
 "metadata": {
  "name": "",
  "signature": "sha256:5c93c2474fb7298371d426b1420599343bff1299e275416e4498c5076638d2c0"
 },
 "nbformat": 3,
 "nbformat_minor": 0,
 "worksheets": [
  {
   "cells": [
    {
     "cell_type": "heading",
     "level": 1,
     "metadata": {},
     "source": [
      "DFT+U calculation"
     ]
    },
    {
     "cell_type": "markdown",
     "metadata": {},
     "source": [
      "Add control parameters to your set:"
     ]
    },
    {
     "cell_type": "code",
     "collapsed": false,
     "input": [
      "s = inherit_iset('8U', '8', varset, override = 1) #\n",
      "s.set_vaspp('ISTART', 1) #use from previous step\n",
      "s.set_vaspp('ICHARG', 1) #\n",
      "s.set_vaspp('LDAU', '.TRUE.')\n",
      "s.set_vaspp('LDAUTYPE', 2) #Dudarev\n",
      "s.set_vaspp('LDAUPRINT', 1) #\n",
      "s.set_vaspp('LASPH', '.TRUE.') #\n",
      "s.set_vaspp('LDAUL', {'Ti':2  }   ) # 2=d-orbitals if one number is provided than it is used for all species\n",
      "s.set_vaspp('LDAUU', {'Ti':4.2}   ) #if one number is provided than it is used for all species\n",
      "s.set_vaspp('LDAUJ', {'Ti':0.5}   )"
     ],
     "language": "python",
     "metadata": {},
     "outputs": []
    },
    {
     "cell_type": "code",
     "collapsed": false,
     "input": [
      "add_loop('Li4Ti8O16.r', '8U', 1, 'up1', calc_method = 'u_ramping', u_ramping_region = (0, 4, 0.2), savefile = 'o')"
     ],
     "language": "python",
     "metadata": {},
     "outputs": []
    }
   ],
   "metadata": {}
  }
 ]
}