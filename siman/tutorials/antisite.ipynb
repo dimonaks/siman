{
 "cells": [
  {
   "cell_type": "markdown",
   "metadata": {},
   "source": [
    "### Instruction\n",
    "This tutorial explain how to create antisite defects"
   ]
  },
  {
   "cell_type": "markdown",
   "metadata": {},
   "source": [
    "### Import libraries"
   ]
  },
  {
   "cell_type": "code",
   "execution_count": 10,
   "metadata": {},
   "outputs": [],
   "source": [
    "import sys\n",
    "from IPython.display import Image\n",
    "\n",
    "from siman import header\n",
    "from siman.calc_manage import smart_structure_read\n",
    "from siman.geo import create_antisite_defect\n",
    "%matplotlib inline"
   ]
  },
  {
   "cell_type": "markdown",
   "metadata": {},
   "source": [
    "### 1. Read structure"
   ]
  },
  {
   "cell_type": "code",
   "execution_count": 5,
   "metadata": {},
   "outputs": [],
   "source": [
    "# st = smart_structure_read('geo/POSCAR_LiFePO4_s10_su_4uis_100_end') # read required structure\n",
    "NCO = smart_structure_read('geo/POSCAR_NaCoO2_O3_su_s10_1uCo0LF_100_end')"
   ]
  },
  {
   "cell_type": "markdown",
   "metadata": {},
   "source": [
    "### 2. Create antisite defect \n"
   ]
  },
  {
   "cell_type": "code",
   "execution_count": 12,
   "metadata": {},
   "outputs": [
    {
     "name": "stdout",
     "output_type": "stream",
     "text": [
      "-- I have found  1 non-equivalent positions for Na : dict_keys([0]) \n",
      "-- Atom numbers:  {0: [1, 2, 3, 4, 5, 6, 7, 8, 9, 10, 11, 12, 13, 14, 15, 16, 17, 18, 19, 20, 21, 22, 23, 24, 25, 26, 27, 28, 29, 30, 31, 32]} \n",
      "\n",
      "-- I have found  1 non-equivalent positions for Co : dict_keys([32]) \n",
      "-- Atom numbers:  {32: [33, 34, 35, 36, 37, 38, 39, 40, 41, 42, 43, 44, 45, 46, 47, 48, 49, 50, 51, 52, 53, 54, 55, 56, 57, 58, 59, 60, 61, 62, 63, 64]} \n",
      "\n",
      "-- POSCAR was written to /hdd/home/aksenov/Simulation_wrapper/siman/tutorials/xyz/POSCAR__NaCoO2_O3_su_s10_1uCo0LF_100_end_as1-34 \n",
      "\n",
      "-- POSCAR was written to /hdd/home/aksenov/Simulation_wrapper/siman/tutorials/xyz/POSCAR__NaCoO2_O3_su_s10_1uCo0LF_100_end_as1-33 \n",
      "\n",
      "-- POSCAR was written to /hdd/home/aksenov/Simulation_wrapper/siman/tutorials/xyz/POSCAR__NaCoO2_O3_su_s10_1uCo0LF_100_end_as1-32 \n",
      "\n",
      "-- File xyz/_NaCoO2_O3_su_s10_1uCo0LF_100_end.xyz was written \n",
      "\n",
      "-- List of antisites: \n",
      "\n",
      "+-------+-----------------+-------+-------+-----------------+\n",
      "|   No. | Antisite type   |   at1 |   at2 |   Separation, A |\n",
      "|-------+-----------------+-------+-------+-----------------|\n",
      "|     0 | (0, 32)         |     2 |    35 |           3.091 |\n",
      "|     1 | (0, 32)         |     2 |    34 |           4.247 |\n",
      "|     2 | (0, 32)         |     2 |    33 |           5.15  |\n",
      "+-------+-----------------+-------+-------+-----------------+ \n",
      "\n"
     ]
    },
    {
     "data": {
      "text/plain": [
       "([<siman.classes.Structure at 0x7fa9028a2518>,\n",
       "  <siman.classes.Structure at 0x7fa9028a24a8>,\n",
       "  <siman.classes.Structure at 0x7fa9028a2780>],\n",
       " [[0, (0, 32), 2, 35, 3.091],\n",
       "  [1, (0, 32), 2, 34, 4.247],\n",
       "  [2, (0, 32), 2, 33, 5.15]])"
      ]
     },
     "execution_count": 12,
     "metadata": {},
     "output_type": "execute_result"
    }
   ],
   "source": [
    "NCO = smart_structure_read('geo/POSCAR_NaCoO2')\n",
    "create_antisite_defect(NCO, 'Na', 'Co', max_sep = 6, iatom = 1)"
   ]
  }
 ],
 "metadata": {
  "kernelspec": {
   "display_name": "Python 3",
   "language": "python",
   "name": "python3"
  },
  "language_info": {
   "codemirror_mode": {
    "name": "ipython",
    "version": 3
   },
   "file_extension": ".py",
   "mimetype": "text/x-python",
   "name": "python",
   "nbconvert_exporter": "python",
   "pygments_lexer": "ipython3",
   "version": "3.6.8"
  }
 },
 "nbformat": 4,
 "nbformat_minor": 2
}
