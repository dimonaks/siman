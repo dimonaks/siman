{
 "metadata": {
  "name": "",
  "signature": "sha256:1d7185fbe4f7411445e098ea55b544e3e6bfedbb6d3e8f7c1bd053bc8116bb95"
 },
 "nbformat": 3,
 "nbformat_minor": 0,
 "worksheets": [
  {
   "cells": [
    {
     "cell_type": "markdown",
     "metadata": {},
     "source": [
      "Inherit using all version"
     ]
    },
    {
     "cell_type": "code",
     "collapsed": false,
     "input": [
      "#We have some calculation \n",
      "db['exmaple', '1ms0', 1].res()\n",
      "\n",
      "#Start a new calculation using the end state of previous calculation\n",
      "add_loop('exmaple', '1ms0', range(1,8), ise_new = '0m', inherit_option = 'full')\n",
      "#here ise_new is new set, which will be used for inherited calcualtions\n",
      "#Possible values of *inherit_option*:\n",
      "#'full', 'full_nomag', 'occ', 'r1r2r3', 'remove_imp', 'replace_atoms', 'make_vacancy', 'antisite', 'inherit_xred', 'continue'\n",
      "\n",
      "#if you need only one version, than run: \n",
      "db['exmaple', '1ms0', 1].run('0m')\n",
      "#Please pay attention than various version are calculated in one folder, \n",
      "#you will have error, if you run more than one version at the same time\n",
      "\n",
      "\n",
      "#to use initial structure of db['exmaple', '1ms0', 1] before relaxation\n",
      "db['exmaple', '1ms0', 1].run('0m', inherit_args = {'id_base_st_type':'init'})"
     ],
     "language": "python",
     "metadata": {},
     "outputs": []
    }
   ],
   "metadata": {}
  }
 ]
}