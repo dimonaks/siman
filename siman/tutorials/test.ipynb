{
 "cells": [
  {
   "cell_type": "code",
   "execution_count": 2,
   "metadata": {},
   "outputs": [
    {
     "data": {
      "text/plain": [
       "({},\n",
       " {'ion_relax': <siman.set_functions.InputSet at 0x7f5f8c73e470>,\n",
       "  'opt': <siman.set_functions.InputSet at 0x7f5f8c742da0>,\n",
       "  'static': <siman.set_functions.InputSet at 0x7f5f8c7a84a8>},\n",
       " 56)"
      ]
     },
     "execution_count": 2,
     "metadata": {},
     "output_type": "execute_result"
    }
   ],
   "source": [
    "from siman import header\n",
    "from siman.SSHTools import SSHTools\n",
    "from siman.calc_manage import add, res\n",
    "from siman.database import write_database, read_database\n",
    "from siman.set_functions import read_vasp_sets\n",
    "from siman.calc_manage import smart_structure_read\n",
    "%matplotlib inline\n",
    "read_database() # read saved database if available\n"
   ]
  }
 ],
 "metadata": {
  "kernelspec": {
   "display_name": "Python 3",
   "language": "python",
   "name": "python3"
  },
  "language_info": {
   "codemirror_mode": {
    "name": "ipython",
    "version": 3
   },
   "file_extension": ".py",
   "mimetype": "text/x-python",
   "name": "python",
   "nbconvert_exporter": "python",
   "pygments_lexer": "ipython3",
   "version": "3.6.8"
  }
 },
 "nbformat": 4,
 "nbformat_minor": 2
}
