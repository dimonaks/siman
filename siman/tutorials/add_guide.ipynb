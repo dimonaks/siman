{
 "metadata": {
  "name": "",
  "signature": "sha256:853592c209e0cfbfe192bdbbe35b682f3a736146b0d0fe486ac2618e9dc9206f"
 },
 "nbformat": 3,
 "nbformat_minor": 0,
 "worksheets": [
  {
   "cells": [
    {
     "cell_type": "code",
     "collapsed": false,
     "input": [
      "#Changing number of cores\n",
      "add(corenum = 16)\n",
      "\n",
      "#Changing cluster\n",
      "add(cluster = 'skol')\n"
     ],
     "language": "python",
     "metadata": {},
     "outputs": []
    }
   ],
   "metadata": {}
  }
 ]
}