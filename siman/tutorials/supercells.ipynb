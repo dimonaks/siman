{
 "cells": [
  {
   "cell_type": "markdown",
   "metadata": {},
   "source": [
    "## Building orthogonal supecells"
   ]
  },
  {
   "cell_type": "code",
   "execution_count": 1,
   "metadata": {},
   "outputs": [
    {
     "name": "stdout",
     "output_type": "stream",
     "text": [
      "/home/aksenov/simanrc.py was read\n"
     ]
    }
   ],
   "source": [
    "import numpy\n",
    "from siman.geo import ortho_vec, create_supercell\n",
    "from siman.calc_manage import smart_structure_read\n",
    "%matplotlib inline"
   ]
  },
  {
   "cell_type": "markdown",
   "metadata": {},
   "source": [
    "### HCP Ti"
   ]
  },
  {
   "cell_type": "code",
   "execution_count": 4,
   "metadata": {},
   "outputs": [
    {
     "name": "stdout",
     "output_type": "stream",
     "text": [
      "-- You provided the following geo file explicitly  ti_hcp.POSCAR ; Version of file does not matter, I use *curver*= 1 as a new version \n",
      "\n",
      "Initial vectors:\n",
      " [[ 2.546 -1.47   0.   ]\n",
      " [ 0.     2.94   0.   ]\n",
      " [ 0.     0.     4.65 ]]\n",
      "\n",
      "Multiplication matrix:\n",
      " [[4 2 0]\n",
      " [0 3 0]\n",
      " [0 0 2]] \n",
      "\n",
      "New vectors (rprimd) of supercell:\n",
      " [[ 10.2   0.    0. ]\n",
      " [  0.    8.8   0. ]\n",
      " [  0.    0.    9.3]] \n",
      "-- The supercell should contain 48.0 atoms ...   -- OK \n",
      "\n",
      "-- File xyz/ti_supercell.xyz was written \n",
      "\n"
     ]
    }
   ],
   "source": [
    "st = smart_structure_read(input_geo_file = 'ti_hcp.POSCAR') # read hcp lattice\n",
    "\n",
    "print('Initial vectors:\\n', numpy.array(st.rprimd) )\n",
    "\n",
    "mul_matrix = ortho_vec(st.rprimd, [10,10,10]) # matrix which allows to obtain supercell close to 10x10x10 A cube \n",
    "\n",
    "print('\\nMultiplication matrix:\\n', mul_matrix, '\\n')\n",
    "\n",
    "sc = create_supercell(st, mul_matrix)\n",
    "\n",
    "sc.write_xyz(filename = 'ti_supercell') #save to xyz/ti_supercell.xyz"
   ]
  },
  {
   "cell_type": "markdown",
   "metadata": {},
   "source": [
    "### Bi2Se3\n",
    "Construct large supercell for Bi2Se3. mp = 15 is needed to account all atoms"
   ]
  },
  {
   "cell_type": "code",
   "execution_count": 3,
   "metadata": {},
   "outputs": [
    {
     "name": "stdout",
     "output_type": "stream",
     "text": [
      "-- You provided the following geo file explicitly  Bi2Se3_mp-541837_computed.POSCAR ; Version of file does not matter, I use *curver*= 1 as a new version \n",
      "\n",
      "Initial vectors:\n",
      " [[  4.103097   0.         9.409867]\n",
      " [  1.962329   3.603424   9.409867]\n",
      " [  0.         0.        10.265525]]\n",
      "\n",
      "Multiplication matrix:\n",
      " [[ 24   0 -22]\n",
      " [-13  27 -13]\n",
      " [  0   0  10]] \n",
      "\n",
      "New vectors (rprimd) of supercell:\n",
      " [[  98.5    0.    -0. ]\n",
      " [  -0.4   97.3   -1.7]\n",
      " [   0.     0.   102.7]] \n",
      "-- The supercell should contain 32400.0 atoms ...   -- OK \n",
      "\n",
      "-- File xyz/Bi2Se3_supercell.xyz was written \n",
      "\n"
     ]
    }
   ],
   "source": [
    "st = smart_structure_read(input_geo_file = 'Bi2Se3_mp-541837_computed.POSCAR') \n",
    "mul_matrix = ortho_vec(st.rprimd, [100, 98, 100]) # matrix which allows to obtain supercell close to 100x98x100 A cube \n",
    "print('Initial vectors:\\n', numpy.array(st.rprimd) )\n",
    "\n",
    "print('\\nMultiplication matrix:\\n', mul_matrix, '\\n')\n",
    "sc = create_supercell(st, mul_matrix, mp = 15) # larger *mp* values allow to find all atoms in supercell \n",
    "sc.write_xyz(filename = 'Bi2Se3_supercell')"
   ]
  },
  {
   "cell_type": "markdown",
   "metadata": {},
   "source": [
    "### α-quartz P3_121"
   ]
  },
  {
   "cell_type": "code",
   "execution_count": 2,
   "metadata": {},
   "outputs": [
    {
     "name": "stdout",
     "output_type": "stream",
     "text": [
      "Structure mp-7000 downloaded from materialsproject.org\n",
      " File mp-7000.POSCAR was written \n",
      "\n",
      "-- You provided the following geo file explicitly  mp-7000.POSCAR ; Version of file does not matter, I use *curver*= 1 as a new version \n",
      "\n"
     ]
    }
   ],
   "source": [
    "from calc_manage import get_structure_from_matproj\n",
    "st = get_structure_from_matproj(mat_proj_id = 'mp-7000') #get SiO2 structure"
   ]
  },
  {
   "cell_type": "code",
   "execution_count": 3,
   "metadata": {},
   "outputs": [
    {
     "name": "stdout",
     "output_type": "stream",
     "text": [
      "Initial vectors:\n",
      " [[ 5.021502  0.        0.      ]\n",
      " [-2.510751  4.348749  0.      ]\n",
      " [ 0.        0.        5.51057 ]]\n",
      "\n",
      "Multiplication matrix:\n",
      " [[11  0  0]\n",
      " [ 6 12  0]\n",
      " [ 0  0 10]] \n",
      "\n",
      "New vectors (rprimd) of supercell:\n",
      " [[ 55.2   0.    0. ]\n",
      " [  0.   52.2   0. ]\n",
      " [  0.    0.   55.1]] \n",
      "-- The supercell should contain 11880.0 atoms ...   -- OK \n",
      "\n",
      "-- File xyz/alpha_quartz.xyz was written \n",
      "\n",
      "Z of elements are:  [8, 14] ; use the same order for *charges* list\n",
      "-- Warining! write_lammps(): this func supports only orthogonal cells \n",
      "\n",
      "-- File alpha_quartz.inp was written \n",
      "\n"
     ]
    }
   ],
   "source": [
    "print('Initial vectors:\\n', numpy.array(st.rprimd) )\n",
    "\n",
    "mul_matrix = ortho_vec(st.rprimd, [54, 54, 54])\n",
    "\n",
    "print('\\nMultiplication matrix:\\n', mul_matrix, '\\n')\n",
    "\n",
    "sc = create_supercell(st, mul_matrix, mp = 8)\n",
    "\n",
    "sc.write_xyz(filename = 'alpha_quartz')\n",
    "print('Z of elements are: ',st.znucl, '; use the same order for *charges* list') #show atom types\n",
    "sc.write_lammps(filename = 'alpha_quartz', charges = [-1.46, 2.92]  ) #write structure for lammps"
   ]
  }
 ],
 "metadata": {
  "kernelspec": {
   "display_name": "Python 3",
   "language": "python",
   "name": "python3"
  },
  "language_info": {
   "codemirror_mode": {
    "name": "ipython",
    "version": 3
   },
   "file_extension": ".py",
   "mimetype": "text/x-python",
   "name": "python",
   "nbconvert_exporter": "python",
   "pygments_lexer": "ipython3",
   "version": "3.6.8"
  }
 },
 "nbformat": 4,
 "nbformat_minor": 1
}
