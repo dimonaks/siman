{
 "cells": [
  {
   "cell_type": "code",
   "execution_count": 13,
   "metadata": {
    "collapsed": false
   },
   "outputs": [],
   "source": [
    "import SSHTools as SSHTools\n",
    "ssh=SSHTools.SSHTools()"
   ]
  },
  {
   "cell_type": "code",
   "execution_count": 14,
   "metadata": {
    "collapsed": false
   },
   "outputs": [],
   "source": [
    "# Setup connection parameters (for tunneling use host=\"localhost\")\n",
    "ssh.setup(user=\"Andriy.Zhugayevych\",host=\"cluster.skoltech.ru\",pkey=\"C:/Users/azh/Sys/Internet/SSH/skoltech/key2.ppk\")\n",
    "#ssh.setup(user=\"Sergey.Matveev\",host=\"cluster.skoltech.ru\",pkey=\"/home/smatveev/.ssh/T1700\")\n",
    "#ssh.setup(user='s.matveev',host='83.149.206.202',pkey='/home/sergey/.ssh/id_rsa',port=22)"
   ]
  },
  {
   "cell_type": "code",
   "execution_count": 15,
   "metadata": {
    "collapsed": false
   },
   "outputs": [
    {
     "name": "stdout",
     "output_type": "stream",
     "text": [
      "command: ls\n",
      "output:\n",
      "bin\n",
      "C35H36_molec_P_CAM-B3LYPp2p_mgf.e54946\n",
      "C35H36_molec_P_CAM-B3LYPp2p_O.e54947\n",
      "C35H36_molec_P_CAM-B3LYPp2p_sp.e54944\n",
      "gaussian\n",
      "intel\n",
      "lammps\n",
      "local\n",
      "mopac\n",
      "private\n",
      "public\n",
      "scratch\n",
      "Si35H36_molec_N_CAM-B3LYPp2p_mgf.e54928\n",
      "Si35H36_molec_N_CAM-B3LYPp2p_O.e54929\n",
      "Si35H36_molec_N_CAM-B3LYPp2p_sp.e54926\n",
      "Si35H36_molec_P_B3LYPp2p_mgf.e54933\n",
      "Si35H36_molec_P_B3LYPp2p_O.e54934\n",
      "Si35H36_molec_P_B3LYPp2p_sp.e54931\n",
      "Si35H36_molec_P_CAM-B3LYPp2p_mgf.e54924\n",
      "Si35H36_molec_P_CAM-B3LYPp2p_O.e54925\n",
      "Si35H36_molec_P_CAM-B3LYPp2p_sp.e54922\n",
      "tinker\n",
      "vasp\n"
     ]
    },
    {
     "data": {
      "text/plain": [
       "'bin\\nC35H36_molec_P_CAM-B3LYPp2p_mgf.e54946\\nC35H36_molec_P_CAM-B3LYPp2p_O.e54947\\nC35H36_molec_P_CAM-B3LYPp2p_sp.e54944\\ngaussian\\nintel\\nlammps\\nlocal\\nmopac\\nprivate\\npublic\\nscratch\\nSi35H36_molec_N_CAM-B3LYPp2p_mgf.e54928\\nSi35H36_molec_N_CAM-B3LYPp2p_O.e54929\\nSi35H36_molec_N_CAM-B3LYPp2p_sp.e54926\\nSi35H36_molec_P_B3LYPp2p_mgf.e54933\\nSi35H36_molec_P_B3LYPp2p_O.e54934\\nSi35H36_molec_P_B3LYPp2p_sp.e54931\\nSi35H36_molec_P_CAM-B3LYPp2p_mgf.e54924\\nSi35H36_molec_P_CAM-B3LYPp2p_O.e54925\\nSi35H36_molec_P_CAM-B3LYPp2p_sp.e54922\\ntinker\\nvasp'"
      ]
     },
     "execution_count": 15,
     "metadata": {},
     "output_type": "execute_result"
    }
   ],
   "source": [
    "# Test connection: execute a command on the server\n",
    "ssh.run(\"ls\",printout=True)"
   ]
  },
  {
   "cell_type": "code",
   "execution_count": 16,
   "metadata": {
    "collapsed": false
   },
   "outputs": [
    {
     "ename": "Warning",
     "evalue": "stderr: ls: cannot access aaaaaa: No such file or directory\n",
     "output_type": "error",
     "traceback": [
      "\u001b[1;31m---------------------------------------------------------------------------\u001b[0m",
      "\u001b[1;31mWarning\u001b[0m                                   Traceback (most recent call last)",
      "\u001b[1;32m<ipython-input-16-c0d443f8bd5b>\u001b[0m in \u001b[0;36m<module>\u001b[1;34m()\u001b[0m\n\u001b[1;32m----> 1\u001b[1;33m \u001b[0mssh\u001b[0m\u001b[1;33m.\u001b[0m\u001b[0mrun\u001b[0m\u001b[1;33m(\u001b[0m\u001b[1;34m\"ls aaaaaa\"\u001b[0m\u001b[1;33m)\u001b[0m \u001b[1;31m# deliberately wrong\u001b[0m\u001b[1;33m\u001b[0m\u001b[0m\n\u001b[0m",
      "\u001b[1;32mC:\\Users\\azh\\Sci\\Math\\CompMath\\Python\\SSHTools\\SSHTools.py\u001b[0m in \u001b[0;36mrun\u001b[1;34m(self, command, noerror, printout)\u001b[0m\n\u001b[0;32m     38\u001b[0m                                 \u001b[1;32mreturn\u001b[0m \u001b[0merr\u001b[0m\u001b[1;33m\u001b[0m\u001b[0m\n\u001b[0;32m     39\u001b[0m                         \u001b[1;32melse\u001b[0m\u001b[1;33m:\u001b[0m\u001b[1;33m\u001b[0m\u001b[0m\n\u001b[1;32m---> 40\u001b[1;33m                                 \u001b[1;32mraise\u001b[0m \u001b[0mWarning\u001b[0m\u001b[1;33m(\u001b[0m\u001b[1;34m\"stderr: \"\u001b[0m\u001b[1;33m+\u001b[0m\u001b[1;34m\"\"\u001b[0m\u001b[1;33m.\u001b[0m\u001b[0mjoin\u001b[0m\u001b[1;33m(\u001b[0m\u001b[0merr\u001b[0m\u001b[1;33m)\u001b[0m\u001b[1;33m)\u001b[0m\u001b[1;33m\u001b[0m\u001b[0m\n\u001b[0m\u001b[0;32m     41\u001b[0m                 \u001b[1;32mif\u001b[0m \u001b[0mprintout\u001b[0m\u001b[1;33m:\u001b[0m\u001b[1;33m\u001b[0m\u001b[0m\n\u001b[0;32m     42\u001b[0m                         \u001b[1;32mif\u001b[0m \u001b[0mlen\u001b[0m\u001b[1;33m(\u001b[0m\u001b[0mout\u001b[0m\u001b[1;33m)\u001b[0m\u001b[1;33m==\u001b[0m\u001b[1;36m1\u001b[0m\u001b[1;33m:\u001b[0m\u001b[1;33m\u001b[0m\u001b[0m\n",
      "\u001b[1;31mWarning\u001b[0m: stderr: ls: cannot access aaaaaa: No such file or directory\n"
     ]
    }
   ],
   "source": [
    "ssh.run(\"ls aaaaaa\") # deliberately wrong"
   ]
  },
  {
   "cell_type": "code",
   "execution_count": 17,
   "metadata": {
    "collapsed": false
   },
   "outputs": [
    {
     "data": {
      "text/plain": [
       "['ls: cannot access aaaaaa: No such file or directory\\n']"
      ]
     },
     "execution_count": 17,
     "metadata": {},
     "output_type": "execute_result"
    }
   ],
   "source": [
    "ssh.run(\"ls aaaaaa\",noerror=True)"
   ]
  },
  {
   "cell_type": "code",
   "execution_count": 18,
   "metadata": {
    "collapsed": false
   },
   "outputs": [
    {
     "data": {
      "text/plain": [
       "0"
      ]
     },
     "execution_count": 18,
     "metadata": {},
     "output_type": "execute_result"
    }
   ],
   "source": [
    "# File upload/download\n",
    "ssh.put(\"SSHTools.py\",\"test_put\")\n",
    "ssh.sget(\"gaussian/_pbs\",\"test_sget\")"
   ]
  },
  {
   "cell_type": "code",
   "execution_count": 19,
   "metadata": {
    "collapsed": false
   },
   "outputs": [
    {
     "data": {
      "text/plain": [
       "''"
      ]
     },
     "execution_count": 19,
     "metadata": {},
     "output_type": "execute_result"
    }
   ],
   "source": [
    "# Remove test file\n",
    "ssh.run(\"rm -f test_put\")"
   ]
  },
  {
   "cell_type": "code",
   "execution_count": 20,
   "metadata": {
    "collapsed": false
   },
   "outputs": [
    {
     "name": "stdout",
     "output_type": "stream",
     "text": [
      "True\n",
      "False\n"
     ]
    }
   ],
   "source": [
    "print(ssh.fexists('gaussian/_pbs'))\n",
    "print(ssh.fexists('gaussian/_bs'))"
   ]
  }
 ],
 "metadata": {
  "anaconda-cloud": {},
  "kernelspec": {
   "display_name": "Python [Root]",
   "language": "python",
   "name": "Python [Root]"
  },
  "language_info": {
   "codemirror_mode": {
    "name": "ipython",
    "version": 3
   },
   "file_extension": ".py",
   "mimetype": "text/x-python",
   "name": "python",
   "nbconvert_exporter": "python",
   "pygments_lexer": "ipython3",
   "version": "3.5.2"
  }
 },
 "nbformat": 4,
 "nbformat_minor": 0
}
