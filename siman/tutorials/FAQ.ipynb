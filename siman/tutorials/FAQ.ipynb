{
 "cells": [
  {
   "cell_type": "markdown",
   "metadata": {},
   "source": [
    "# Reading OUTCAR"
   ]
  },
  {
   "cell_type": "markdown",
   "metadata": {},
   "source": [
    "## 1. How to read unfinished OUTCAR?"
   ]
  },
  {
   "cell_type": "code",
   "execution_count": null,
   "metadata": {},
   "outputs": [],
   "source": [
    "res_loop(up = 'un') # read unfinished v.OUTCAR due to crash of vasp\n",
    "res_loop(up = 'un2') # read unfinished OUTCAR due to crash of job"
   ]
  },
  {
   "cell_type": "markdown",
   "metadata": {},
   "source": [
    "## 2. How to read xcart at each relaxation step?"
   ]
  },
  {
   "cell_type": "code",
   "execution_count": null,
   "metadata": {},
   "outputs": [],
   "source": [
    "cl = calc['O2', '1u', 1]\n",
    "cl.read_results(out_type = 'xcarts') #\n",
    "print(cl.xcart_list)"
   ]
  },
  {
   "cell_type": "markdown",
   "metadata": {},
   "source": [
    "## 3. How to show additional information?"
   ]
  },
  {
   "cell_type": "code",
   "execution_count": null,
   "metadata": {},
   "outputs": [],
   "source": [
    "res_loop(show = 'smag') # show sum of all magnetic moments (and augmentation part) at each relaxation step\n",
    "res_loop(show = 'conv') # show convergence at each MD step\n",
    "res_loop(show = 'en') # show energy vs max. force plot\n",
    "res_loop(show = 'path') # show path to calculation folder\n",
    "res_loop(show = 'pos') # write poscar for last structure\n",
    "cl.end.jmol() or cl.jmol() # run jmol and show the structure"
   ]
  },
  {
   "cell_type": "markdown",
   "metadata": {},
   "source": [
    "## Additional information for neb"
   ]
  },
  {
   "cell_type": "code",
   "execution_count": null,
   "metadata": {},
   "outputs": [],
   "source": [
    "#for res()\n",
    "show = 'neb_geo'\n",
    "show = 'neb_geo2' # average distances \n",
    "show = 'neb_noxyz' # write no xyz files\n",
    "show = 'neb_rms' # rms change of surrounding atoms"
   ]
  },
  {
   "cell_type": "markdown",
   "metadata": {},
   "source": [
    "## 4. How to switch off check of job status on server"
   ]
  },
  {
   "cell_type": "code",
   "execution_count": null,
   "metadata": {},
   "outputs": [],
   "source": [
    "res_loop(check_job = 0)\n",
    "add_loop(check_job = 0)"
   ]
  },
  {
   "cell_type": "markdown",
   "metadata": {},
   "source": [
    "## 5. Main control parameters in project_conf.py"
   ]
  },
  {
   "cell_type": "code",
   "execution_count": 1,
   "metadata": {},
   "outputs": [],
   "source": [
    "check_job = 0 or 1 # whether to check job status, set to 0 for slow connections"
   ]
  },
  {
   "cell_type": "markdown",
   "metadata": {},
   "source": [
    "## How to fix specific atoms for selective dynamics?"
   ]
  },
  {
   "cell_type": "code",
   "execution_count": null,
   "metadata": {},
   "outputs": [],
   "source": [
    "st = st.fix_atoms([1,4,6])\n",
    "add('it', 'ise', 1, input_st = st) # will automatically detect fixed atoms and turn on selective dynamics "
   ]
  },
  {
   "cell_type": "markdown",
   "metadata": {},
   "source": [
    "## How to write final structure into file? "
   ]
  },
  {
   "cell_type": "code",
   "execution_count": null,
   "metadata": {},
   "outputs": [],
   "source": [
    "st.write_poscar()\n",
    "st.write_cif()\n",
    "st.write_xyz()\n",
    "st.write_geometry() # siman custom .geo format"
   ]
  },
  {
   "cell_type": "markdown",
   "metadata": {},
   "source": [
    "###How to check history of my submissions?\n",
    "Look in **history** file in your project folder.\n"
   ]
  },
  {
   "cell_type": "code",
   "execution_count": null,
   "metadata": {},
   "outputs": [],
   "source": []
  }
 ],
 "metadata": {
  "kernelspec": {
   "display_name": "Python 3",
   "language": "python",
   "name": "python3"
  },
  "language_info": {
   "codemirror_mode": {
    "name": "ipython",
    "version": 3
   },
   "file_extension": ".py",
   "mimetype": "text/x-python",
   "name": "python",
   "nbconvert_exporter": "python",
   "pygments_lexer": "ipython3",
   "version": "3.5.2"
  }
 },
 "nbformat": 4,
 "nbformat_minor": 1
}
